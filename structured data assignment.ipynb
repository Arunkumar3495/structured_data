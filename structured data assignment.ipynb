{
 "cells": [
  {
   "cell_type": "markdown",
   "id": "6889696a",
   "metadata": {},
   "source": [
    "# Importing Libraries "
   ]
  },
  {
   "cell_type": "code",
   "execution_count": 1,
   "id": "2bbc4cb5",
   "metadata": {},
   "outputs": [
    {
     "name": "stderr",
     "output_type": "stream",
     "text": [
      "C:\\Users\\Admin\\anaconda3\\lib\\site-packages\\scipy\\__init__.py:155: UserWarning: A NumPy version >=1.18.5 and <1.25.0 is required for this version of SciPy (detected version 1.26.0\n",
      "  warnings.warn(f\"A NumPy version >={np_minversion} and <{np_maxversion}\"\n"
     ]
    }
   ],
   "source": [
    "import pandas as pd\n",
    "import numpy as np\n",
    "import seaborn as sns\n",
    "import matplotlib.pyplot as plt\n",
    "from datetime import datetime, timedelta\n",
    "from sklearn.model_selection import train_test_split, cross_val_score, cross_validate\n",
    "from sklearn.metrics import confusion_matrix\n",
    "from sklearn.metrics import classification_report\n",
    "from sklearn.metrics import f1_score, roc_auc_score as ras, roc_curve, auc, accuracy_score\n",
    "from sklearn.linear_model import LogisticRegression\n",
    "from xgboost import XGBClassifier"
   ]
  },
  {
   "cell_type": "code",
   "execution_count": 2,
   "id": "0f197dee",
   "metadata": {},
   "outputs": [],
   "source": [
    "#To ignore warnings\n",
    "import warnings\n",
    "warnings.filterwarnings(\"ignore\")"
   ]
  },
  {
   "cell_type": "code",
   "execution_count": 3,
   "id": "e5dacd73",
   "metadata": {},
   "outputs": [],
   "source": [
    "# Loading Train data set\n",
    "train_df=pd.read_parquet(\"train.parquet\")\n",
    "     "
   ]
  },
  {
   "cell_type": "code",
   "execution_count": 4,
   "id": "9b3df2c8",
   "metadata": {},
   "outputs": [
    {
     "name": "stdout",
     "output_type": "stream",
     "text": [
      "Data set size :  (3220868, 3)\n"
     ]
    }
   ],
   "source": [
    "# Checking size of dataset\n",
    "print(\"Data set size : \", train_df.shape)"
   ]
  },
  {
   "cell_type": "code",
   "execution_count": 5,
   "id": "b8662ce5",
   "metadata": {},
   "outputs": [
    {
     "data": {
      "text/html": [
       "<div>\n",
       "<style scoped>\n",
       "    .dataframe tbody tr th:only-of-type {\n",
       "        vertical-align: middle;\n",
       "    }\n",
       "\n",
       "    .dataframe tbody tr th {\n",
       "        vertical-align: top;\n",
       "    }\n",
       "\n",
       "    .dataframe thead th {\n",
       "        text-align: right;\n",
       "    }\n",
       "</style>\n",
       "<table border=\"1\" class=\"dataframe\">\n",
       "  <thead>\n",
       "    <tr style=\"text-align: right;\">\n",
       "      <th></th>\n",
       "      <th>Patient-Uid</th>\n",
       "      <th>Date</th>\n",
       "      <th>Incident</th>\n",
       "    </tr>\n",
       "  </thead>\n",
       "  <tbody>\n",
       "    <tr>\n",
       "      <th>0</th>\n",
       "      <td>a0db1e73-1c7c-11ec-ae39-16262ee38c7f</td>\n",
       "      <td>2019-03-09</td>\n",
       "      <td>PRIMARY_DIAGNOSIS</td>\n",
       "    </tr>\n",
       "    <tr>\n",
       "      <th>1</th>\n",
       "      <td>a0dc93f2-1c7c-11ec-9cd2-16262ee38c7f</td>\n",
       "      <td>2015-05-16</td>\n",
       "      <td>PRIMARY_DIAGNOSIS</td>\n",
       "    </tr>\n",
       "    <tr>\n",
       "      <th>3</th>\n",
       "      <td>a0dc94c6-1c7c-11ec-a3a0-16262ee38c7f</td>\n",
       "      <td>2018-01-30</td>\n",
       "      <td>SYMPTOM_TYPE_0</td>\n",
       "    </tr>\n",
       "    <tr>\n",
       "      <th>4</th>\n",
       "      <td>a0dc950b-1c7c-11ec-b6ec-16262ee38c7f</td>\n",
       "      <td>2015-04-22</td>\n",
       "      <td>DRUG_TYPE_0</td>\n",
       "    </tr>\n",
       "    <tr>\n",
       "      <th>8</th>\n",
       "      <td>a0dc9543-1c7c-11ec-bb63-16262ee38c7f</td>\n",
       "      <td>2016-06-18</td>\n",
       "      <td>DRUG_TYPE_1</td>\n",
       "    </tr>\n",
       "  </tbody>\n",
       "</table>\n",
       "</div>"
      ],
      "text/plain": [
       "                            Patient-Uid       Date           Incident\n",
       "0  a0db1e73-1c7c-11ec-ae39-16262ee38c7f 2019-03-09  PRIMARY_DIAGNOSIS\n",
       "1  a0dc93f2-1c7c-11ec-9cd2-16262ee38c7f 2015-05-16  PRIMARY_DIAGNOSIS\n",
       "3  a0dc94c6-1c7c-11ec-a3a0-16262ee38c7f 2018-01-30     SYMPTOM_TYPE_0\n",
       "4  a0dc950b-1c7c-11ec-b6ec-16262ee38c7f 2015-04-22        DRUG_TYPE_0\n",
       "8  a0dc9543-1c7c-11ec-bb63-16262ee38c7f 2016-06-18        DRUG_TYPE_1"
      ]
     },
     "execution_count": 5,
     "metadata": {},
     "output_type": "execute_result"
    }
   ],
   "source": [
    "#Fetching top 5 row in dataset\n",
    "train_df.head()"
   ]
  },
  {
   "cell_type": "code",
   "execution_count": 6,
   "id": "a9b1b0c2",
   "metadata": {},
   "outputs": [
    {
     "data": {
      "text/plain": [
       "Index(['Patient-Uid', 'Date', 'Incident'], dtype='object')"
      ]
     },
     "execution_count": 6,
     "metadata": {},
     "output_type": "execute_result"
    }
   ],
   "source": [
    "#finding the column names\n",
    "train_df.columns"
   ]
  },
  {
   "cell_type": "code",
   "execution_count": 7,
   "id": "ef5b3cca",
   "metadata": {},
   "outputs": [
    {
     "data": {
      "text/html": [
       "<div>\n",
       "<style scoped>\n",
       "    .dataframe tbody tr th:only-of-type {\n",
       "        vertical-align: middle;\n",
       "    }\n",
       "\n",
       "    .dataframe tbody tr th {\n",
       "        vertical-align: top;\n",
       "    }\n",
       "\n",
       "    .dataframe thead th {\n",
       "        text-align: right;\n",
       "    }\n",
       "</style>\n",
       "<table border=\"1\" class=\"dataframe\">\n",
       "  <thead>\n",
       "    <tr style=\"text-align: right;\">\n",
       "      <th></th>\n",
       "      <th>Patient-Uid</th>\n",
       "      <th>Date</th>\n",
       "      <th>Incident</th>\n",
       "    </tr>\n",
       "  </thead>\n",
       "  <tbody>\n",
       "    <tr>\n",
       "      <th>count</th>\n",
       "      <td>3220868</td>\n",
       "      <td>3220868</td>\n",
       "      <td>3220868</td>\n",
       "    </tr>\n",
       "    <tr>\n",
       "      <th>unique</th>\n",
       "      <td>27033</td>\n",
       "      <td>1977</td>\n",
       "      <td>57</td>\n",
       "    </tr>\n",
       "    <tr>\n",
       "      <th>top</th>\n",
       "      <td>a0ddfd2c-1c7c-11ec-876d-16262ee38c7f</td>\n",
       "      <td>2019-05-21 00:00:00</td>\n",
       "      <td>DRUG_TYPE_6</td>\n",
       "    </tr>\n",
       "    <tr>\n",
       "      <th>freq</th>\n",
       "      <td>1645</td>\n",
       "      <td>3678</td>\n",
       "      <td>561934</td>\n",
       "    </tr>\n",
       "    <tr>\n",
       "      <th>first</th>\n",
       "      <td>NaN</td>\n",
       "      <td>2015-04-07 00:00:00</td>\n",
       "      <td>NaN</td>\n",
       "    </tr>\n",
       "    <tr>\n",
       "      <th>last</th>\n",
       "      <td>NaN</td>\n",
       "      <td>2020-09-03 00:00:00</td>\n",
       "      <td>NaN</td>\n",
       "    </tr>\n",
       "  </tbody>\n",
       "</table>\n",
       "</div>"
      ],
      "text/plain": [
       "                                 Patient-Uid                 Date     Incident\n",
       "count                                3220868              3220868      3220868\n",
       "unique                                 27033                 1977           57\n",
       "top     a0ddfd2c-1c7c-11ec-876d-16262ee38c7f  2019-05-21 00:00:00  DRUG_TYPE_6\n",
       "freq                                    1645                 3678       561934\n",
       "first                                    NaN  2015-04-07 00:00:00          NaN\n",
       "last                                     NaN  2020-09-03 00:00:00          NaN"
      ]
     },
     "execution_count": 7,
     "metadata": {},
     "output_type": "execute_result"
    }
   ],
   "source": [
    "#Basic statistical analysis of dataset\n",
    "train_df.describe()"
   ]
  },
  {
   "cell_type": "markdown",
   "id": "88e73ea7",
   "metadata": {},
   "source": [
    "# Data Preprocessing"
   ]
  },
  {
   "cell_type": "markdown",
   "id": "aa93a853",
   "metadata": {},
   "source": [
    "# Data cleaning\n",
    "\n"
   ]
  },
  {
   "cell_type": "code",
   "execution_count": 8,
   "id": "83279d8f",
   "metadata": {},
   "outputs": [
    {
     "data": {
      "text/plain": [
       "Patient-Uid    0\n",
       "Date           0\n",
       "Incident       0\n",
       "dtype: int64"
      ]
     },
     "execution_count": 8,
     "metadata": {},
     "output_type": "execute_result"
    }
   ],
   "source": [
    "#checking for null values\n",
    "train_df.isnull().sum()"
   ]
  },
  {
   "cell_type": "code",
   "execution_count": 9,
   "id": "987e67b6",
   "metadata": {},
   "outputs": [
    {
     "data": {
      "text/plain": [
       "35571"
      ]
     },
     "execution_count": 9,
     "metadata": {},
     "output_type": "execute_result"
    }
   ],
   "source": [
    "#checking for no of duplicate values\n",
    "train_df.duplicated().sum()"
   ]
  },
  {
   "cell_type": "code",
   "execution_count": 10,
   "id": "b3505c8e",
   "metadata": {},
   "outputs": [],
   "source": [
    "\n",
    "#droping duplicates\n",
    "train_df = train_df.drop_duplicates()\n",
    "     "
   ]
  },
  {
   "cell_type": "code",
   "execution_count": 11,
   "id": "0c9a3ba5",
   "metadata": {},
   "outputs": [
    {
     "data": {
      "text/plain": [
       "0"
      ]
     },
     "execution_count": 11,
     "metadata": {},
     "output_type": "execute_result"
    }
   ],
   "source": [
    "#after droping again check for no of duplicates\n",
    "train_df.duplicated().sum()"
   ]
  },
  {
   "cell_type": "code",
   "execution_count": 12,
   "id": "781c318c",
   "metadata": {},
   "outputs": [
    {
     "data": {
      "text/plain": [
       "Patient-Uid            object\n",
       "Date           datetime64[ns]\n",
       "Incident               object\n",
       "dtype: object"
      ]
     },
     "execution_count": 12,
     "metadata": {},
     "output_type": "execute_result"
    }
   ],
   "source": [
    "train_df.dtypes"
   ]
  },
  {
   "cell_type": "code",
   "execution_count": 13,
   "id": "4386ea10",
   "metadata": {},
   "outputs": [
    {
     "name": "stdout",
     "output_type": "stream",
     "text": [
      "Unique values of Incident \n",
      "\n",
      "['PRIMARY_DIAGNOSIS' 'SYMPTOM_TYPE_0' 'DRUG_TYPE_0' 'DRUG_TYPE_1'\n",
      " 'DRUG_TYPE_2' 'TEST_TYPE_0' 'DRUG_TYPE_3' 'DRUG_TYPE_4' 'DRUG_TYPE_5'\n",
      " 'DRUG_TYPE_6' 'DRUG_TYPE_8' 'DRUG_TYPE_7' 'SYMPTOM_TYPE_1' 'DRUG_TYPE_10'\n",
      " 'SYMPTOM_TYPE_29' 'SYMPTOM_TYPE_2' 'DRUG_TYPE_11' 'DRUG_TYPE_9'\n",
      " 'DRUG_TYPE_13' 'SYMPTOM_TYPE_5' 'TEST_TYPE_1' 'SYMPTOM_TYPE_6'\n",
      " 'TEST_TYPE_2' 'SYMPTOM_TYPE_3' 'SYMPTOM_TYPE_8' 'DRUG_TYPE_14'\n",
      " 'DRUG_TYPE_12' 'SYMPTOM_TYPE_9' 'SYMPTOM_TYPE_10' 'SYMPTOM_TYPE_7'\n",
      " 'SYMPTOM_TYPE_11' 'TEST_TYPE_3' 'DRUG_TYPE_15' 'SYMPTOM_TYPE_4'\n",
      " 'SYMPTOM_TYPE_14' 'SYMPTOM_TYPE_13' 'SYMPTOM_TYPE_16' 'SYMPTOM_TYPE_17'\n",
      " 'SYMPTOM_TYPE_15' 'SYMPTOM_TYPE_18' 'SYMPTOM_TYPE_12' 'SYMPTOM_TYPE_20'\n",
      " 'SYMPTOM_TYPE_21' 'DRUG_TYPE_17' 'SYMPTOM_TYPE_22' 'TEST_TYPE_4'\n",
      " 'SYMPTOM_TYPE_23' 'DRUG_TYPE_16' 'TEST_TYPE_5' 'SYMPTOM_TYPE_19'\n",
      " 'SYMPTOM_TYPE_24' 'SYMPTOM_TYPE_25' 'SYMPTOM_TYPE_26' 'SYMPTOM_TYPE_27'\n",
      " 'DRUG_TYPE_18' 'SYMPTOM_TYPE_28' 'TARGET DRUG']\n"
     ]
    }
   ],
   "source": [
    "\n",
    "print(\"Unique values of Incident \\n\")\n",
    "print(train_df['Incident'].unique())"
   ]
  },
  {
   "cell_type": "markdown",
   "id": "917a13e7",
   "metadata": {},
   "source": [
    "# Exploring the Dataset"
   ]
  },
  {
   "cell_type": "code",
   "execution_count": 14,
   "id": "73a236cb",
   "metadata": {},
   "outputs": [
    {
     "data": {
      "text/plain": [
       "DRUG_TYPE_6          549616\n",
       "DRUG_TYPE_1          484565\n",
       "PRIMARY_DIAGNOSIS    424879\n",
       "DRUG_TYPE_0          298881\n",
       "DRUG_TYPE_2          256203\n",
       "DRUG_TYPE_7          251239\n",
       "DRUG_TYPE_8          158706\n",
       "DRUG_TYPE_3          126615\n",
       "TEST_TYPE_1           96810\n",
       "TARGET DRUG           67218\n",
       "DRUG_TYPE_9           66894\n",
       "DRUG_TYPE_5           55940\n",
       "SYMPTOM_TYPE_0        46078\n",
       "DRUG_TYPE_11          45419\n",
       "SYMPTOM_TYPE_6        32066\n",
       "TEST_TYPE_0           27570\n",
       "SYMPTOM_TYPE_7        22019\n",
       "DRUG_TYPE_10          20911\n",
       "DRUG_TYPE_14          17306\n",
       "DRUG_TYPE_13          12321\n",
       "DRUG_TYPE_12           9540\n",
       "SYMPTOM_TYPE_14        8927\n",
       "SYMPTOM_TYPE_1         8608\n",
       "SYMPTOM_TYPE_2         8168\n",
       "TEST_TYPE_3            8115\n",
       "SYMPTOM_TYPE_5         7583\n",
       "SYMPTOM_TYPE_8         7430\n",
       "TEST_TYPE_2            7021\n",
       "SYMPTOM_TYPE_15        6295\n",
       "SYMPTOM_TYPE_10        6005\n",
       "SYMPTOM_TYPE_29        5910\n",
       "SYMPTOM_TYPE_16        4940\n",
       "DRUG_TYPE_15           4906\n",
       "SYMPTOM_TYPE_9         4885\n",
       "DRUG_TYPE_4            4566\n",
       "SYMPTOM_TYPE_4         4115\n",
       "SYMPTOM_TYPE_3         3931\n",
       "SYMPTOM_TYPE_12        2685\n",
       "SYMPTOM_TYPE_11        2483\n",
       "SYMPTOM_TYPE_17        2090\n",
       "SYMPTOM_TYPE_13        1541\n",
       "DRUG_TYPE_16           1127\n",
       "TEST_TYPE_4            1108\n",
       "SYMPTOM_TYPE_18         530\n",
       "SYMPTOM_TYPE_21         363\n",
       "SYMPTOM_TYPE_22         285\n",
       "SYMPTOM_TYPE_19         219\n",
       "DRUG_TYPE_17            214\n",
       "TEST_TYPE_5             137\n",
       "SYMPTOM_TYPE_24          97\n",
       "SYMPTOM_TYPE_26          63\n",
       "SYMPTOM_TYPE_23          54\n",
       "SYMPTOM_TYPE_20          53\n",
       "SYMPTOM_TYPE_27          21\n",
       "SYMPTOM_TYPE_25          18\n",
       "SYMPTOM_TYPE_28           7\n",
       "DRUG_TYPE_18              1\n",
       "Name: Incident, dtype: int64"
      ]
     },
     "execution_count": 14,
     "metadata": {},
     "output_type": "execute_result"
    }
   ],
   "source": [
    "# no of counts for particular Incident\n",
    "train_df.Incident.value_counts()"
   ]
  },
  {
   "cell_type": "code",
   "execution_count": 15,
   "id": "e8104b87",
   "metadata": {},
   "outputs": [
    {
     "data": {
      "text/plain": [
       "2019-05-21    3645\n",
       "2019-05-22    3330\n",
       "2019-03-05    3156\n",
       "2019-05-14    3134\n",
       "2019-03-12    2986\n",
       "              ... \n",
       "2017-01-27     308\n",
       "2017-02-28     285\n",
       "2020-02-29     282\n",
       "2016-01-29     271\n",
       "2016-02-29     255\n",
       "Name: Date, Length: 1977, dtype: int64"
      ]
     },
     "execution_count": 15,
     "metadata": {},
     "output_type": "execute_result"
    }
   ],
   "source": [
    "#no of counts for particular Date\n",
    "train_df.Date.value_counts()"
   ]
  },
  {
   "cell_type": "code",
   "execution_count": 16,
   "id": "ee27c73e",
   "metadata": {},
   "outputs": [
    {
     "data": {
      "text/html": [
       "<div>\n",
       "<style scoped>\n",
       "    .dataframe tbody tr th:only-of-type {\n",
       "        vertical-align: middle;\n",
       "    }\n",
       "\n",
       "    .dataframe tbody tr th {\n",
       "        vertical-align: top;\n",
       "    }\n",
       "\n",
       "    .dataframe thead th {\n",
       "        text-align: right;\n",
       "    }\n",
       "</style>\n",
       "<table border=\"1\" class=\"dataframe\">\n",
       "  <thead>\n",
       "    <tr style=\"text-align: right;\">\n",
       "      <th></th>\n",
       "      <th>Patient-Uid</th>\n",
       "      <th>Date</th>\n",
       "      <th>Incident</th>\n",
       "    </tr>\n",
       "  </thead>\n",
       "  <tbody>\n",
       "    <tr>\n",
       "      <th>3294791</th>\n",
       "      <td>a0eb742b-1c7c-11ec-8f61-16262ee38c7f</td>\n",
       "      <td>2020-04-09</td>\n",
       "      <td>TARGET DRUG</td>\n",
       "    </tr>\n",
       "    <tr>\n",
       "      <th>3296990</th>\n",
       "      <td>a0edaf09-1c7c-11ec-a360-16262ee38c7f</td>\n",
       "      <td>2018-06-12</td>\n",
       "      <td>TARGET DRUG</td>\n",
       "    </tr>\n",
       "    <tr>\n",
       "      <th>3305387</th>\n",
       "      <td>a0e9fa0e-1c7c-11ec-8dc7-16262ee38c7f</td>\n",
       "      <td>2019-06-11</td>\n",
       "      <td>TARGET DRUG</td>\n",
       "    </tr>\n",
       "    <tr>\n",
       "      <th>3309423</th>\n",
       "      <td>a0ecc615-1c7c-11ec-aa31-16262ee38c7f</td>\n",
       "      <td>2019-11-15</td>\n",
       "      <td>TARGET DRUG</td>\n",
       "    </tr>\n",
       "    <tr>\n",
       "      <th>3309494</th>\n",
       "      <td>a0ea612f-1c7c-11ec-8cf0-16262ee38c7f</td>\n",
       "      <td>2020-03-18</td>\n",
       "      <td>TARGET DRUG</td>\n",
       "    </tr>\n",
       "  </tbody>\n",
       "</table>\n",
       "</div>"
      ],
      "text/plain": [
       "                                  Patient-Uid       Date     Incident\n",
       "3294791  a0eb742b-1c7c-11ec-8f61-16262ee38c7f 2020-04-09  TARGET DRUG\n",
       "3296990  a0edaf09-1c7c-11ec-a360-16262ee38c7f 2018-06-12  TARGET DRUG\n",
       "3305387  a0e9fa0e-1c7c-11ec-8dc7-16262ee38c7f 2019-06-11  TARGET DRUG\n",
       "3309423  a0ecc615-1c7c-11ec-aa31-16262ee38c7f 2019-11-15  TARGET DRUG\n",
       "3309494  a0ea612f-1c7c-11ec-8cf0-16262ee38c7f 2020-03-18  TARGET DRUG"
      ]
     },
     "execution_count": 16,
     "metadata": {},
     "output_type": "execute_result"
    }
   ],
   "source": [
    "# generating positive set\n",
    "positive_df = train_df[train_df['Incident']=='TARGET DRUG']\n",
    "positive_df.head()\n",
    "     "
   ]
  },
  {
   "cell_type": "code",
   "execution_count": 17,
   "id": "8c5f69e2",
   "metadata": {},
   "outputs": [
    {
     "data": {
      "text/plain": [
       "(67218, 3)"
      ]
     },
     "execution_count": 17,
     "metadata": {},
     "output_type": "execute_result"
    }
   ],
   "source": [
    "# shape of positive set\n",
    "positive_df.shape"
   ]
  },
  {
   "cell_type": "code",
   "execution_count": 18,
   "id": "6979a47a",
   "metadata": {},
   "outputs": [
    {
     "data": {
      "text/html": [
       "<div>\n",
       "<style scoped>\n",
       "    .dataframe tbody tr th:only-of-type {\n",
       "        vertical-align: middle;\n",
       "    }\n",
       "\n",
       "    .dataframe tbody tr th {\n",
       "        vertical-align: top;\n",
       "    }\n",
       "\n",
       "    .dataframe thead th {\n",
       "        text-align: right;\n",
       "    }\n",
       "</style>\n",
       "<table border=\"1\" class=\"dataframe\">\n",
       "  <thead>\n",
       "    <tr style=\"text-align: right;\">\n",
       "      <th></th>\n",
       "      <th>Patient-Uid</th>\n",
       "      <th>Date</th>\n",
       "      <th>Incident</th>\n",
       "    </tr>\n",
       "  </thead>\n",
       "  <tbody>\n",
       "    <tr>\n",
       "      <th>1560892</th>\n",
       "      <td>a0e3a8c0-1c7c-11ec-98c2-16262ee38c7f</td>\n",
       "      <td>2018-05-06</td>\n",
       "      <td>PRIMARY_DIAGNOSIS</td>\n",
       "    </tr>\n",
       "    <tr>\n",
       "      <th>1620903</th>\n",
       "      <td>a0dd6a3f-1c7c-11ec-9b86-16262ee38c7f</td>\n",
       "      <td>2015-04-07</td>\n",
       "      <td>SYMPTOM_TYPE_0</td>\n",
       "    </tr>\n",
       "    <tr>\n",
       "      <th>1629044</th>\n",
       "      <td>a0e48a75-1c7c-11ec-8c5f-16262ee38c7f</td>\n",
       "      <td>2018-08-22</td>\n",
       "      <td>DRUG_TYPE_6</td>\n",
       "    </tr>\n",
       "    <tr>\n",
       "      <th>1942882</th>\n",
       "      <td>a0e3cf61-1c7c-11ec-8098-16262ee38c7f</td>\n",
       "      <td>2018-08-21</td>\n",
       "      <td>DRUG_TYPE_2</td>\n",
       "    </tr>\n",
       "    <tr>\n",
       "      <th>1975541</th>\n",
       "      <td>a0e91a8c-1c7c-11ec-acc2-16262ee38c7f</td>\n",
       "      <td>2020-04-15</td>\n",
       "      <td>PRIMARY_DIAGNOSIS</td>\n",
       "    </tr>\n",
       "    <tr>\n",
       "      <th>...</th>\n",
       "      <td>...</td>\n",
       "      <td>...</td>\n",
       "      <td>...</td>\n",
       "    </tr>\n",
       "    <tr>\n",
       "      <th>3256795</th>\n",
       "      <td>a0e045a1-1c7c-11ec-8014-16262ee38c7f</td>\n",
       "      <td>2020-07-10</td>\n",
       "      <td>PRIMARY_DIAGNOSIS</td>\n",
       "    </tr>\n",
       "    <tr>\n",
       "      <th>3256799</th>\n",
       "      <td>a0e67e2a-1c7c-11ec-b805-16262ee38c7f</td>\n",
       "      <td>2015-12-16</td>\n",
       "      <td>PRIMARY_DIAGNOSIS</td>\n",
       "    </tr>\n",
       "    <tr>\n",
       "      <th>3256800</th>\n",
       "      <td>a0dec400-1c7c-11ec-80df-16262ee38c7f</td>\n",
       "      <td>2019-08-06</td>\n",
       "      <td>PRIMARY_DIAGNOSIS</td>\n",
       "    </tr>\n",
       "    <tr>\n",
       "      <th>3256804</th>\n",
       "      <td>a0e09919-1c7c-11ec-9e7d-16262ee38c7f</td>\n",
       "      <td>2017-02-19</td>\n",
       "      <td>DRUG_TYPE_6</td>\n",
       "    </tr>\n",
       "    <tr>\n",
       "      <th>3256805</th>\n",
       "      <td>a0e69331-1c7c-11ec-a98d-16262ee38c7f</td>\n",
       "      <td>2015-10-03</td>\n",
       "      <td>DRUG_TYPE_6</td>\n",
       "    </tr>\n",
       "  </tbody>\n",
       "</table>\n",
       "<p>17659 rows × 3 columns</p>\n",
       "</div>"
      ],
      "text/plain": [
       "                                  Patient-Uid       Date           Incident\n",
       "1560892  a0e3a8c0-1c7c-11ec-98c2-16262ee38c7f 2018-05-06  PRIMARY_DIAGNOSIS\n",
       "1620903  a0dd6a3f-1c7c-11ec-9b86-16262ee38c7f 2015-04-07     SYMPTOM_TYPE_0\n",
       "1629044  a0e48a75-1c7c-11ec-8c5f-16262ee38c7f 2018-08-22        DRUG_TYPE_6\n",
       "1942882  a0e3cf61-1c7c-11ec-8098-16262ee38c7f 2018-08-21        DRUG_TYPE_2\n",
       "1975541  a0e91a8c-1c7c-11ec-acc2-16262ee38c7f 2020-04-15  PRIMARY_DIAGNOSIS\n",
       "...                                       ...        ...                ...\n",
       "3256795  a0e045a1-1c7c-11ec-8014-16262ee38c7f 2020-07-10  PRIMARY_DIAGNOSIS\n",
       "3256799  a0e67e2a-1c7c-11ec-b805-16262ee38c7f 2015-12-16  PRIMARY_DIAGNOSIS\n",
       "3256800  a0dec400-1c7c-11ec-80df-16262ee38c7f 2019-08-06  PRIMARY_DIAGNOSIS\n",
       "3256804  a0e09919-1c7c-11ec-9e7d-16262ee38c7f 2017-02-19        DRUG_TYPE_6\n",
       "3256805  a0e69331-1c7c-11ec-a98d-16262ee38c7f 2015-10-03        DRUG_TYPE_6\n",
       "\n",
       "[17659 rows x 3 columns]"
      ]
     },
     "execution_count": 18,
     "metadata": {},
     "output_type": "execute_result"
    }
   ],
   "source": [
    "negative =  train_df[~train_df['Patient-Uid'].isin(positive_df['Patient-Uid'])]\n",
    "negative_df = negative.groupby('Patient-Uid').tail(1)\n",
    "negative_df"
   ]
  },
  {
   "cell_type": "code",
   "execution_count": 19,
   "id": "4dedf73f",
   "metadata": {},
   "outputs": [
    {
     "data": {
      "text/plain": [
       "(17659, 3)"
      ]
     },
     "execution_count": 19,
     "metadata": {},
     "output_type": "execute_result"
    }
   ],
   "source": [
    "\n",
    "# shape of negative set\n",
    "negative_df.shape"
   ]
  },
  {
   "cell_type": "code",
   "execution_count": 20,
   "id": "0489c479",
   "metadata": {},
   "outputs": [
    {
     "data": {
      "text/html": [
       "<div>\n",
       "<style scoped>\n",
       "    .dataframe tbody tr th:only-of-type {\n",
       "        vertical-align: middle;\n",
       "    }\n",
       "\n",
       "    .dataframe tbody tr th {\n",
       "        vertical-align: top;\n",
       "    }\n",
       "\n",
       "    .dataframe thead th {\n",
       "        text-align: right;\n",
       "    }\n",
       "</style>\n",
       "<table border=\"1\" class=\"dataframe\">\n",
       "  <thead>\n",
       "    <tr style=\"text-align: right;\">\n",
       "      <th></th>\n",
       "      <th>Patient-Uid</th>\n",
       "      <th>Date</th>\n",
       "      <th>Incident</th>\n",
       "      <th>Prescription_Count</th>\n",
       "    </tr>\n",
       "  </thead>\n",
       "  <tbody>\n",
       "    <tr>\n",
       "      <th>29074998</th>\n",
       "      <td>a0ef2b6d-1c7c-11ec-9172-16262ee38c7f</td>\n",
       "      <td>2018-10-12</td>\n",
       "      <td>TARGET DRUG</td>\n",
       "      <td>4</td>\n",
       "    </tr>\n",
       "    <tr>\n",
       "      <th>29075105</th>\n",
       "      <td>a0ebe423-1c7c-11ec-a5e0-16262ee38c7f</td>\n",
       "      <td>2019-07-02</td>\n",
       "      <td>TARGET DRUG</td>\n",
       "      <td>9</td>\n",
       "    </tr>\n",
       "    <tr>\n",
       "      <th>29075494</th>\n",
       "      <td>a0ebc713-1c7c-11ec-bd53-16262ee38c7f</td>\n",
       "      <td>2019-05-21</td>\n",
       "      <td>TARGET DRUG</td>\n",
       "      <td>10</td>\n",
       "    </tr>\n",
       "    <tr>\n",
       "      <th>29080031</th>\n",
       "      <td>a0ee1bdb-1c7c-11ec-90ba-16262ee38c7f</td>\n",
       "      <td>2018-06-07</td>\n",
       "      <td>TARGET DRUG</td>\n",
       "      <td>14</td>\n",
       "    </tr>\n",
       "    <tr>\n",
       "      <th>29080178</th>\n",
       "      <td>a0eef180-1c7c-11ec-8de8-16262ee38c7f</td>\n",
       "      <td>2018-07-17</td>\n",
       "      <td>TARGET DRUG</td>\n",
       "      <td>13</td>\n",
       "    </tr>\n",
       "  </tbody>\n",
       "</table>\n",
       "</div>"
      ],
      "text/plain": [
       "                                   Patient-Uid       Date     Incident  \\\n",
       "29074998  a0ef2b6d-1c7c-11ec-9172-16262ee38c7f 2018-10-12  TARGET DRUG   \n",
       "29075105  a0ebe423-1c7c-11ec-a5e0-16262ee38c7f 2019-07-02  TARGET DRUG   \n",
       "29075494  a0ebc713-1c7c-11ec-bd53-16262ee38c7f 2019-05-21  TARGET DRUG   \n",
       "29080031  a0ee1bdb-1c7c-11ec-90ba-16262ee38c7f 2018-06-07  TARGET DRUG   \n",
       "29080178  a0eef180-1c7c-11ec-8de8-16262ee38c7f 2018-07-17  TARGET DRUG   \n",
       "\n",
       "          Prescription_Count  \n",
       "29074998                   4  \n",
       "29075105                   9  \n",
       "29075494                  10  \n",
       "29080031                  14  \n",
       "29080178                  13  "
      ]
     },
     "execution_count": 20,
     "metadata": {},
     "output_type": "execute_result"
    }
   ],
   "source": [
    "# to get the count of previous prescriptions within specific time intervals\n",
    "positive_df['Prescription_Count'] = positive_df.groupby('Patient-Uid')['Date'].cumcount()\n",
    "negative_df['Prescription_Count'] = negative_df.groupby('Patient-Uid')['Date'].cumcount()\n",
    "positive_df.tail(5)"
   ]
  },
  {
   "cell_type": "code",
   "execution_count": 21,
   "id": "41822bc7",
   "metadata": {},
   "outputs": [],
   "source": [
    "# to get the difference between the most recent prescription and the prediction date.\n",
    "prediction_date = pd.to_datetime('today') + pd.DateOffset(days=30)\n",
    "positive_df['Time_diff'] = (prediction_date - positive_df.groupby('Patient-Uid')['Date'].transform('max')).dt.days\n",
    "negative_df['Time_diff'] = (prediction_date - negative_df.groupby('Patient-Uid')['Date'].transform('max')).dt.days\n",
    "     "
   ]
  },
  {
   "cell_type": "code",
   "execution_count": 22,
   "id": "c264554b",
   "metadata": {},
   "outputs": [
    {
     "data": {
      "text/html": [
       "<div>\n",
       "<style scoped>\n",
       "    .dataframe tbody tr th:only-of-type {\n",
       "        vertical-align: middle;\n",
       "    }\n",
       "\n",
       "    .dataframe tbody tr th {\n",
       "        vertical-align: top;\n",
       "    }\n",
       "\n",
       "    .dataframe thead th {\n",
       "        text-align: right;\n",
       "    }\n",
       "</style>\n",
       "<table border=\"1\" class=\"dataframe\">\n",
       "  <thead>\n",
       "    <tr style=\"text-align: right;\">\n",
       "      <th></th>\n",
       "      <th>Patient-Uid</th>\n",
       "      <th>Date</th>\n",
       "      <th>Incident</th>\n",
       "      <th>Prescription_Count</th>\n",
       "      <th>Time_diff</th>\n",
       "    </tr>\n",
       "  </thead>\n",
       "  <tbody>\n",
       "    <tr>\n",
       "      <th>3294791</th>\n",
       "      <td>a0eb742b-1c7c-11ec-8f61-16262ee38c7f</td>\n",
       "      <td>2020-04-09</td>\n",
       "      <td>TARGET DRUG</td>\n",
       "      <td>0</td>\n",
       "      <td>1198</td>\n",
       "    </tr>\n",
       "    <tr>\n",
       "      <th>3296990</th>\n",
       "      <td>a0edaf09-1c7c-11ec-a360-16262ee38c7f</td>\n",
       "      <td>2018-06-12</td>\n",
       "      <td>TARGET DRUG</td>\n",
       "      <td>0</td>\n",
       "      <td>1452</td>\n",
       "    </tr>\n",
       "    <tr>\n",
       "      <th>3305387</th>\n",
       "      <td>a0e9fa0e-1c7c-11ec-8dc7-16262ee38c7f</td>\n",
       "      <td>2019-06-11</td>\n",
       "      <td>TARGET DRUG</td>\n",
       "      <td>0</td>\n",
       "      <td>1477</td>\n",
       "    </tr>\n",
       "    <tr>\n",
       "      <th>3309423</th>\n",
       "      <td>a0ecc615-1c7c-11ec-aa31-16262ee38c7f</td>\n",
       "      <td>2019-11-15</td>\n",
       "      <td>TARGET DRUG</td>\n",
       "      <td>0</td>\n",
       "      <td>1182</td>\n",
       "    </tr>\n",
       "    <tr>\n",
       "      <th>3309494</th>\n",
       "      <td>a0ea612f-1c7c-11ec-8cf0-16262ee38c7f</td>\n",
       "      <td>2020-03-18</td>\n",
       "      <td>TARGET DRUG</td>\n",
       "      <td>0</td>\n",
       "      <td>1198</td>\n",
       "    </tr>\n",
       "  </tbody>\n",
       "</table>\n",
       "</div>"
      ],
      "text/plain": [
       "                                  Patient-Uid       Date     Incident  \\\n",
       "3294791  a0eb742b-1c7c-11ec-8f61-16262ee38c7f 2020-04-09  TARGET DRUG   \n",
       "3296990  a0edaf09-1c7c-11ec-a360-16262ee38c7f 2018-06-12  TARGET DRUG   \n",
       "3305387  a0e9fa0e-1c7c-11ec-8dc7-16262ee38c7f 2019-06-11  TARGET DRUG   \n",
       "3309423  a0ecc615-1c7c-11ec-aa31-16262ee38c7f 2019-11-15  TARGET DRUG   \n",
       "3309494  a0ea612f-1c7c-11ec-8cf0-16262ee38c7f 2020-03-18  TARGET DRUG   \n",
       "\n",
       "         Prescription_Count  Time_diff  \n",
       "3294791                   0       1198  \n",
       "3296990                   0       1452  \n",
       "3305387                   0       1477  \n",
       "3309423                   0       1182  \n",
       "3309494                   0       1198  "
      ]
     },
     "execution_count": 22,
     "metadata": {},
     "output_type": "execute_result"
    }
   ],
   "source": [
    "positive_df.head()"
   ]
  },
  {
   "cell_type": "code",
   "execution_count": 23,
   "id": "5f2a204e",
   "metadata": {},
   "outputs": [
    {
     "data": {
      "text/html": [
       "<div>\n",
       "<style scoped>\n",
       "    .dataframe tbody tr th:only-of-type {\n",
       "        vertical-align: middle;\n",
       "    }\n",
       "\n",
       "    .dataframe tbody tr th {\n",
       "        vertical-align: top;\n",
       "    }\n",
       "\n",
       "    .dataframe thead th {\n",
       "        text-align: right;\n",
       "    }\n",
       "</style>\n",
       "<table border=\"1\" class=\"dataframe\">\n",
       "  <thead>\n",
       "    <tr style=\"text-align: right;\">\n",
       "      <th></th>\n",
       "      <th>Patient-Uid</th>\n",
       "      <th>Date</th>\n",
       "      <th>Incident</th>\n",
       "      <th>Prescription_Count</th>\n",
       "      <th>Time_diff</th>\n",
       "    </tr>\n",
       "  </thead>\n",
       "  <tbody>\n",
       "    <tr>\n",
       "      <th>1560892</th>\n",
       "      <td>a0e3a8c0-1c7c-11ec-98c2-16262ee38c7f</td>\n",
       "      <td>2018-05-06</td>\n",
       "      <td>PRIMARY_DIAGNOSIS</td>\n",
       "      <td>0</td>\n",
       "      <td>2028</td>\n",
       "    </tr>\n",
       "    <tr>\n",
       "      <th>1620903</th>\n",
       "      <td>a0dd6a3f-1c7c-11ec-9b86-16262ee38c7f</td>\n",
       "      <td>2015-04-07</td>\n",
       "      <td>SYMPTOM_TYPE_0</td>\n",
       "      <td>0</td>\n",
       "      <td>3153</td>\n",
       "    </tr>\n",
       "    <tr>\n",
       "      <th>1629044</th>\n",
       "      <td>a0e48a75-1c7c-11ec-8c5f-16262ee38c7f</td>\n",
       "      <td>2018-08-22</td>\n",
       "      <td>DRUG_TYPE_6</td>\n",
       "      <td>0</td>\n",
       "      <td>1920</td>\n",
       "    </tr>\n",
       "    <tr>\n",
       "      <th>1942882</th>\n",
       "      <td>a0e3cf61-1c7c-11ec-8098-16262ee38c7f</td>\n",
       "      <td>2018-08-21</td>\n",
       "      <td>DRUG_TYPE_2</td>\n",
       "      <td>0</td>\n",
       "      <td>1921</td>\n",
       "    </tr>\n",
       "    <tr>\n",
       "      <th>1975541</th>\n",
       "      <td>a0e91a8c-1c7c-11ec-acc2-16262ee38c7f</td>\n",
       "      <td>2020-04-15</td>\n",
       "      <td>PRIMARY_DIAGNOSIS</td>\n",
       "      <td>0</td>\n",
       "      <td>1318</td>\n",
       "    </tr>\n",
       "  </tbody>\n",
       "</table>\n",
       "</div>"
      ],
      "text/plain": [
       "                                  Patient-Uid       Date           Incident  \\\n",
       "1560892  a0e3a8c0-1c7c-11ec-98c2-16262ee38c7f 2018-05-06  PRIMARY_DIAGNOSIS   \n",
       "1620903  a0dd6a3f-1c7c-11ec-9b86-16262ee38c7f 2015-04-07     SYMPTOM_TYPE_0   \n",
       "1629044  a0e48a75-1c7c-11ec-8c5f-16262ee38c7f 2018-08-22        DRUG_TYPE_6   \n",
       "1942882  a0e3cf61-1c7c-11ec-8098-16262ee38c7f 2018-08-21        DRUG_TYPE_2   \n",
       "1975541  a0e91a8c-1c7c-11ec-acc2-16262ee38c7f 2020-04-15  PRIMARY_DIAGNOSIS   \n",
       "\n",
       "         Prescription_Count  Time_diff  \n",
       "1560892                   0       2028  \n",
       "1620903                   0       3153  \n",
       "1629044                   0       1920  \n",
       "1942882                   0       1921  \n",
       "1975541                   0       1318  "
      ]
     },
     "execution_count": 23,
     "metadata": {},
     "output_type": "execute_result"
    }
   ],
   "source": [
    "\n",
    "negative_df.head()"
   ]
  },
  {
   "cell_type": "code",
   "execution_count": 24,
   "id": "3740736c",
   "metadata": {},
   "outputs": [
    {
     "data": {
      "text/html": [
       "<div>\n",
       "<style scoped>\n",
       "    .dataframe tbody tr th:only-of-type {\n",
       "        vertical-align: middle;\n",
       "    }\n",
       "\n",
       "    .dataframe tbody tr th {\n",
       "        vertical-align: top;\n",
       "    }\n",
       "\n",
       "    .dataframe thead th {\n",
       "        text-align: right;\n",
       "    }\n",
       "</style>\n",
       "<table border=\"1\" class=\"dataframe\">\n",
       "  <thead>\n",
       "    <tr style=\"text-align: right;\">\n",
       "      <th></th>\n",
       "      <th>Patient-Uid</th>\n",
       "      <th>Date</th>\n",
       "      <th>Incident</th>\n",
       "      <th>Prescription_Count</th>\n",
       "      <th>Time_diff</th>\n",
       "    </tr>\n",
       "  </thead>\n",
       "  <tbody>\n",
       "    <tr>\n",
       "      <th>3294791</th>\n",
       "      <td>a0eb742b-1c7c-11ec-8f61-16262ee38c7f</td>\n",
       "      <td>2020-04-09</td>\n",
       "      <td>TARGET DRUG</td>\n",
       "      <td>0</td>\n",
       "      <td>1198</td>\n",
       "    </tr>\n",
       "    <tr>\n",
       "      <th>3296990</th>\n",
       "      <td>a0edaf09-1c7c-11ec-a360-16262ee38c7f</td>\n",
       "      <td>2018-06-12</td>\n",
       "      <td>TARGET DRUG</td>\n",
       "      <td>0</td>\n",
       "      <td>1452</td>\n",
       "    </tr>\n",
       "    <tr>\n",
       "      <th>3305387</th>\n",
       "      <td>a0e9fa0e-1c7c-11ec-8dc7-16262ee38c7f</td>\n",
       "      <td>2019-06-11</td>\n",
       "      <td>TARGET DRUG</td>\n",
       "      <td>0</td>\n",
       "      <td>1477</td>\n",
       "    </tr>\n",
       "    <tr>\n",
       "      <th>3309423</th>\n",
       "      <td>a0ecc615-1c7c-11ec-aa31-16262ee38c7f</td>\n",
       "      <td>2019-11-15</td>\n",
       "      <td>TARGET DRUG</td>\n",
       "      <td>0</td>\n",
       "      <td>1182</td>\n",
       "    </tr>\n",
       "    <tr>\n",
       "      <th>3309494</th>\n",
       "      <td>a0ea612f-1c7c-11ec-8cf0-16262ee38c7f</td>\n",
       "      <td>2020-03-18</td>\n",
       "      <td>TARGET DRUG</td>\n",
       "      <td>0</td>\n",
       "      <td>1198</td>\n",
       "    </tr>\n",
       "  </tbody>\n",
       "</table>\n",
       "</div>"
      ],
      "text/plain": [
       "                                  Patient-Uid       Date     Incident  \\\n",
       "3294791  a0eb742b-1c7c-11ec-8f61-16262ee38c7f 2020-04-09  TARGET DRUG   \n",
       "3296990  a0edaf09-1c7c-11ec-a360-16262ee38c7f 2018-06-12  TARGET DRUG   \n",
       "3305387  a0e9fa0e-1c7c-11ec-8dc7-16262ee38c7f 2019-06-11  TARGET DRUG   \n",
       "3309423  a0ecc615-1c7c-11ec-aa31-16262ee38c7f 2019-11-15  TARGET DRUG   \n",
       "3309494  a0ea612f-1c7c-11ec-8cf0-16262ee38c7f 2020-03-18  TARGET DRUG   \n",
       "\n",
       "         Prescription_Count  Time_diff  \n",
       "3294791                   0       1198  \n",
       "3296990                   0       1452  \n",
       "3305387                   0       1477  \n",
       "3309423                   0       1182  \n",
       "3309494                   0       1198  "
      ]
     },
     "execution_count": 24,
     "metadata": {},
     "output_type": "execute_result"
    }
   ],
   "source": [
    "# creating new dataset by concating positive and negative sets\n",
    "new_df = pd.concat([positive_df, negative_df])\n",
    "new_df.head()"
   ]
  },
  {
   "cell_type": "code",
   "execution_count": 25,
   "id": "bb2f5621",
   "metadata": {},
   "outputs": [
    {
     "data": {
      "text/plain": [
       "(84877, 5)"
      ]
     },
     "execution_count": 25,
     "metadata": {},
     "output_type": "execute_result"
    }
   ],
   "source": [
    "new_df.shape"
   ]
  },
  {
   "cell_type": "code",
   "execution_count": 26,
   "id": "1556e057",
   "metadata": {},
   "outputs": [],
   "source": [
    "# splitting dataset into train & test sets\n",
    "X_train, X_test, y_train, y_test = train_test_split(new_df[['Prescription_Count', 'Time_diff']], new_df['Incident'] == 'TARGET DRUG', test_size = 0.25, random_state=42)\n",
    "\n"
   ]
  },
  {
   "cell_type": "code",
   "execution_count": 27,
   "id": "99e7ae84",
   "metadata": {},
   "outputs": [
    {
     "data": {
      "text/plain": [
       "((63657, 2), (21220, 2), (63657,), (21220,))"
      ]
     },
     "execution_count": 27,
     "metadata": {},
     "output_type": "execute_result"
    }
   ],
   "source": [
    "\n",
    "X_train.shape,X_test.shape,y_train.shape,y_test.shape\n",
    "     "
   ]
  },
  {
   "cell_type": "code",
   "execution_count": 28,
   "id": "4b235f56",
   "metadata": {},
   "outputs": [
    {
     "data": {
      "text/plain": [
       "XGBClassifier(base_score=None, booster=None, callbacks=None,\n",
       "              colsample_bylevel=None, colsample_bynode=None,\n",
       "              colsample_bytree=None, early_stopping_rounds=None,\n",
       "              enable_categorical=False, eval_metric=None, feature_types=None,\n",
       "              gamma=None, gpu_id=None, grow_policy=None, importance_type=None,\n",
       "              interaction_constraints=None, learning_rate=None, max_bin=None,\n",
       "              max_cat_threshold=None, max_cat_to_onehot=None,\n",
       "              max_delta_step=None, max_depth=None, max_leaves=None,\n",
       "              min_child_weight=None, missing=nan, monotone_constraints=None,\n",
       "              n_estimators=100, n_jobs=None, num_parallel_tree=None,\n",
       "              predictor=None, random_state=42, ...)"
      ]
     },
     "execution_count": 28,
     "metadata": {},
     "output_type": "execute_result"
    }
   ],
   "source": [
    "# building model to train the data\n",
    "xgb_classifier =  XGBClassifier(random_state=42)\n",
    "xgb_classifier.fit(X_train, y_train)"
   ]
  },
  {
   "cell_type": "code",
   "execution_count": 29,
   "id": "f19fe8f3",
   "metadata": {},
   "outputs": [],
   "source": [
    "#predicting test data\n",
    "y_pred = xgb_classifier.predict(X_test)"
   ]
  },
  {
   "cell_type": "code",
   "execution_count": 30,
   "id": "1f8d700b",
   "metadata": {},
   "outputs": [
    {
     "data": {
      "text/plain": [
       "array([[ 3964,   428],\n",
       "       [  843, 15985]], dtype=int64)"
      ]
     },
     "execution_count": 30,
     "metadata": {},
     "output_type": "execute_result"
    }
   ],
   "source": [
    "# to evaluate the model - confusion_matrix\n",
    "conf_matrix_report = confusion_matrix(y_test, y_pred)\n",
    "conf_matrix_report\n",
    "     "
   ]
  },
  {
   "cell_type": "code",
   "execution_count": 31,
   "id": "630b4c77",
   "metadata": {},
   "outputs": [
    {
     "name": "stdout",
     "output_type": "stream",
     "text": [
      "              precision    recall  f1-score   support\n",
      "\n",
      "       False       0.82      0.90      0.86      4392\n",
      "        True       0.97      0.95      0.96     16828\n",
      "\n",
      "    accuracy                           0.94     21220\n",
      "   macro avg       0.90      0.93      0.91     21220\n",
      "weighted avg       0.94      0.94      0.94     21220\n",
      "\n"
     ]
    }
   ],
   "source": [
    "# evaluating the model - classification report\n",
    "print(classification_report(y_test, y_pred))"
   ]
  },
  {
   "cell_type": "code",
   "execution_count": 32,
   "id": "f11cbc67",
   "metadata": {},
   "outputs": [
    {
     "data": {
      "text/plain": [
       "0.9617640865196594"
      ]
     },
     "execution_count": 32,
     "metadata": {},
     "output_type": "execute_result"
    }
   ],
   "source": [
    "\n",
    "# calculating F1 score\n",
    "F1_score = f1_score(y_test, y_pred)\n",
    "F1_score\n"
   ]
  },
  {
   "cell_type": "code",
   "execution_count": 33,
   "id": "f4729d32",
   "metadata": {},
   "outputs": [
    {
     "data": {
      "text/plain": [
       "0.9401036757775684"
      ]
     },
     "execution_count": 33,
     "metadata": {},
     "output_type": "execute_result"
    }
   ],
   "source": [
    "# model accuracy\n",
    "accuracy_score(y_test, y_pred)\n",
    "     "
   ]
  },
  {
   "cell_type": "code",
   "execution_count": 34,
   "id": "04aa22fa",
   "metadata": {},
   "outputs": [
    {
     "data": {
      "image/png": "[encoded data removed]",
      "text/plain": [
       "<Figure size 640x480 with 1 Axes>"
      ]
     },
     "metadata": {},
     "output_type": "display_data"
    }
   ],
   "source": [
    "# evaluating model by roc_auc curve\n",
    "fpr,tpr, thresold = roc_curve(y_test, y_pred)\n",
    "roc_auc = auc(fpr,tpr)\n",
    "plt.plot(fpr,tpr, label = 'AUC = %0.3f' % roc_auc)\n",
    "plt.plot([0,1],[0,1],'--')\n",
    "plt.title('ROC_AUC curve')\n",
    "plt.legend(loc='lower right')\n",
    "plt.xlabel('False positive rate')\n",
    "plt.ylabel('True positive rate')\n",
    "plt.show()"
   ]
  },
  {
   "cell_type": "markdown",
   "id": "1455049c",
   "metadata": {},
   "source": [
    "# Loading Test Dataset"
   ]
  },
  {
   "cell_type": "code",
   "execution_count": 35,
   "id": "1778decf",
   "metadata": {},
   "outputs": [],
   "source": [
    "test_df = pd.read_parquet(\"test.parquet\")"
   ]
  },
  {
   "cell_type": "code",
   "execution_count": 36,
   "id": "48ba4f45",
   "metadata": {},
   "outputs": [
    {
     "name": "stdout",
     "output_type": "stream",
     "text": [
      "Data set size :  (1065524, 3)\n"
     ]
    }
   ],
   "source": [
    "\n",
    "# Checking size of dataset\n",
    "print(\"Data set size : \", test_df.shape)"
   ]
  },
  {
   "cell_type": "code",
   "execution_count": 37,
   "id": "d0927bba",
   "metadata": {},
   "outputs": [
    {
     "data": {
      "text/html": [
       "<div>\n",
       "<style scoped>\n",
       "    .dataframe tbody tr th:only-of-type {\n",
       "        vertical-align: middle;\n",
       "    }\n",
       "\n",
       "    .dataframe tbody tr th {\n",
       "        vertical-align: top;\n",
       "    }\n",
       "\n",
       "    .dataframe thead th {\n",
       "        text-align: right;\n",
       "    }\n",
       "</style>\n",
       "<table border=\"1\" class=\"dataframe\">\n",
       "  <thead>\n",
       "    <tr style=\"text-align: right;\">\n",
       "      <th></th>\n",
       "      <th>Patient-Uid</th>\n",
       "      <th>Date</th>\n",
       "      <th>Incident</th>\n",
       "    </tr>\n",
       "  </thead>\n",
       "  <tbody>\n",
       "    <tr>\n",
       "      <th>0</th>\n",
       "      <td>a0f9e8a9-1c7c-11ec-8d25-16262ee38c7f</td>\n",
       "      <td>2016-12-08</td>\n",
       "      <td>SYMPTOM_TYPE_0</td>\n",
       "    </tr>\n",
       "    <tr>\n",
       "      <th>1</th>\n",
       "      <td>a0f9e8a9-1c7c-11ec-8d25-16262ee38c7f</td>\n",
       "      <td>2018-10-17</td>\n",
       "      <td>DRUG_TYPE_0</td>\n",
       "    </tr>\n",
       "    <tr>\n",
       "      <th>2</th>\n",
       "      <td>a0f9e8a9-1c7c-11ec-8d25-16262ee38c7f</td>\n",
       "      <td>2017-12-01</td>\n",
       "      <td>DRUG_TYPE_2</td>\n",
       "    </tr>\n",
       "    <tr>\n",
       "      <th>3</th>\n",
       "      <td>a0f9e8a9-1c7c-11ec-8d25-16262ee38c7f</td>\n",
       "      <td>2018-12-05</td>\n",
       "      <td>DRUG_TYPE_1</td>\n",
       "    </tr>\n",
       "    <tr>\n",
       "      <th>4</th>\n",
       "      <td>a0f9e8a9-1c7c-11ec-8d25-16262ee38c7f</td>\n",
       "      <td>2017-11-04</td>\n",
       "      <td>SYMPTOM_TYPE_0</td>\n",
       "    </tr>\n",
       "  </tbody>\n",
       "</table>\n",
       "</div>"
      ],
      "text/plain": [
       "                            Patient-Uid       Date        Incident\n",
       "0  a0f9e8a9-1c7c-11ec-8d25-16262ee38c7f 2016-12-08  SYMPTOM_TYPE_0\n",
       "1  a0f9e8a9-1c7c-11ec-8d25-16262ee38c7f 2018-10-17     DRUG_TYPE_0\n",
       "2  a0f9e8a9-1c7c-11ec-8d25-16262ee38c7f 2017-12-01     DRUG_TYPE_2\n",
       "3  a0f9e8a9-1c7c-11ec-8d25-16262ee38c7f 2018-12-05     DRUG_TYPE_1\n",
       "4  a0f9e8a9-1c7c-11ec-8d25-16262ee38c7f 2017-11-04  SYMPTOM_TYPE_0"
      ]
     },
     "execution_count": 37,
     "metadata": {},
     "output_type": "execute_result"
    }
   ],
   "source": [
    "# top 5 row in dataset\n",
    "test_df.head()"
   ]
  },
  {
   "cell_type": "code",
   "execution_count": 38,
   "id": "e43f9fbe",
   "metadata": {},
   "outputs": [
    {
     "data": {
      "text/plain": [
       "Index(['Patient-Uid', 'Date', 'Incident'], dtype='object')"
      ]
     },
     "execution_count": 38,
     "metadata": {},
     "output_type": "execute_result"
    }
   ],
   "source": [
    "# finding the column names\n",
    "test_df.columns"
   ]
  },
  {
   "cell_type": "code",
   "execution_count": 39,
   "id": "ff3aac9f",
   "metadata": {},
   "outputs": [
    {
     "data": {
      "text/html": [
       "<div>\n",
       "<style scoped>\n",
       "    .dataframe tbody tr th:only-of-type {\n",
       "        vertical-align: middle;\n",
       "    }\n",
       "\n",
       "    .dataframe tbody tr th {\n",
       "        vertical-align: top;\n",
       "    }\n",
       "\n",
       "    .dataframe thead th {\n",
       "        text-align: right;\n",
       "    }\n",
       "</style>\n",
       "<table border=\"1\" class=\"dataframe\">\n",
       "  <thead>\n",
       "    <tr style=\"text-align: right;\">\n",
       "      <th></th>\n",
       "      <th>Patient-Uid</th>\n",
       "      <th>Date</th>\n",
       "      <th>Incident</th>\n",
       "    </tr>\n",
       "  </thead>\n",
       "  <tbody>\n",
       "    <tr>\n",
       "      <th>count</th>\n",
       "      <td>1065524</td>\n",
       "      <td>1065524</td>\n",
       "      <td>1065524</td>\n",
       "    </tr>\n",
       "    <tr>\n",
       "      <th>unique</th>\n",
       "      <td>11482</td>\n",
       "      <td>1947</td>\n",
       "      <td>55</td>\n",
       "    </tr>\n",
       "    <tr>\n",
       "      <th>top</th>\n",
       "      <td>a0faa6ed-1c7c-11ec-8f6f-16262ee38c7f</td>\n",
       "      <td>2018-03-13 00:00:00</td>\n",
       "      <td>DRUG_TYPE_6</td>\n",
       "    </tr>\n",
       "    <tr>\n",
       "      <th>freq</th>\n",
       "      <td>1236</td>\n",
       "      <td>1139</td>\n",
       "      <td>192292</td>\n",
       "    </tr>\n",
       "    <tr>\n",
       "      <th>first</th>\n",
       "      <td>NaN</td>\n",
       "      <td>2015-04-07 00:00:00</td>\n",
       "      <td>NaN</td>\n",
       "    </tr>\n",
       "    <tr>\n",
       "      <th>last</th>\n",
       "      <td>NaN</td>\n",
       "      <td>2020-08-04 00:00:00</td>\n",
       "      <td>NaN</td>\n",
       "    </tr>\n",
       "  </tbody>\n",
       "</table>\n",
       "</div>"
      ],
      "text/plain": [
       "                                 Patient-Uid                 Date     Incident\n",
       "count                                1065524              1065524      1065524\n",
       "unique                                 11482                 1947           55\n",
       "top     a0faa6ed-1c7c-11ec-8f6f-16262ee38c7f  2018-03-13 00:00:00  DRUG_TYPE_6\n",
       "freq                                    1236                 1139       192292\n",
       "first                                    NaN  2015-04-07 00:00:00          NaN\n",
       "last                                     NaN  2020-08-04 00:00:00          NaN"
      ]
     },
     "execution_count": 39,
     "metadata": {},
     "output_type": "execute_result"
    }
   ],
   "source": [
    "test_df.describe()"
   ]
  },
  {
   "cell_type": "markdown",
   "id": "4604552d",
   "metadata": {},
   "source": [
    "# Data Preprocessing\n",
    "# Data Cleaning - Missing Values"
   ]
  },
  {
   "cell_type": "code",
   "execution_count": 40,
   "id": "80a07133",
   "metadata": {},
   "outputs": [
    {
     "data": {
      "text/plain": [
       "Patient-Uid    0\n",
       "Date           0\n",
       "Incident       0\n",
       "dtype: int64"
      ]
     },
     "execution_count": 40,
     "metadata": {},
     "output_type": "execute_result"
    }
   ],
   "source": [
    "test_df.isnull().sum()"
   ]
  },
  {
   "cell_type": "code",
   "execution_count": 41,
   "id": "c640d46c",
   "metadata": {},
   "outputs": [
    {
     "data": {
      "text/plain": [
       "12100"
      ]
     },
     "execution_count": 41,
     "metadata": {},
     "output_type": "execute_result"
    }
   ],
   "source": [
    "# checking for no of duplicate values\n",
    "test_df.duplicated().sum()"
   ]
  },
  {
   "cell_type": "code",
   "execution_count": 42,
   "id": "917efe56",
   "metadata": {},
   "outputs": [],
   "source": [
    "# droping duplicates\n",
    "test_df = test_df.drop_duplicates()\n",
    "     "
   ]
  },
  {
   "cell_type": "code",
   "execution_count": 43,
   "id": "eddfc119",
   "metadata": {},
   "outputs": [
    {
     "data": {
      "text/plain": [
       "0"
      ]
     },
     "execution_count": 43,
     "metadata": {},
     "output_type": "execute_result"
    }
   ],
   "source": [
    "# after droping agin check for no of duplicates\n",
    "test_df.duplicated().sum()"
   ]
  },
  {
   "cell_type": "code",
   "execution_count": 44,
   "id": "245e76c7",
   "metadata": {},
   "outputs": [
    {
     "data": {
      "text/plain": [
       "Patient-Uid            object\n",
       "Date           datetime64[ns]\n",
       "Incident               object\n",
       "dtype: object"
      ]
     },
     "execution_count": 44,
     "metadata": {},
     "output_type": "execute_result"
    }
   ],
   "source": [
    "test_df.dtypes"
   ]
  },
  {
   "cell_type": "code",
   "execution_count": 45,
   "id": "83eab49f",
   "metadata": {},
   "outputs": [
    {
     "name": "stdout",
     "output_type": "stream",
     "text": [
      "Unique values of Incident \n",
      "\n",
      "['SYMPTOM_TYPE_0' 'DRUG_TYPE_0' 'DRUG_TYPE_2' 'DRUG_TYPE_1'\n",
      " 'PRIMARY_DIAGNOSIS' 'DRUG_TYPE_8' 'TEST_TYPE_0' 'DRUG_TYPE_7'\n",
      " 'DRUG_TYPE_11' 'SYMPTOM_TYPE_6' 'DRUG_TYPE_5' 'DRUG_TYPE_6' 'DRUG_TYPE_9'\n",
      " 'DRUG_TYPE_15' 'TEST_TYPE_3' 'SYMPTOM_TYPE_3' 'TEST_TYPE_1' 'DRUG_TYPE_3'\n",
      " 'TEST_TYPE_2' 'SYMPTOM_TYPE_7' 'DRUG_TYPE_12' 'SYMPTOM_TYPE_2'\n",
      " 'SYMPTOM_TYPE_10' 'SYMPTOM_TYPE_1' 'SYMPTOM_TYPE_17' 'SYMPTOM_TYPE_18'\n",
      " 'SYMPTOM_TYPE_5' 'SYMPTOM_TYPE_15' 'SYMPTOM_TYPE_9' 'SYMPTOM_TYPE_4'\n",
      " 'SYMPTOM_TYPE_8' 'SYMPTOM_TYPE_29' 'DRUG_TYPE_13' 'SYMPTOM_TYPE_21'\n",
      " 'DRUG_TYPE_4' 'SYMPTOM_TYPE_12' 'SYMPTOM_TYPE_11' 'SYMPTOM_TYPE_19'\n",
      " 'DRUG_TYPE_14' 'SYMPTOM_TYPE_16' 'TEST_TYPE_4' 'DRUG_TYPE_10'\n",
      " 'SYMPTOM_TYPE_26' 'SYMPTOM_TYPE_14' 'SYMPTOM_TYPE_24' 'DRUG_TYPE_16'\n",
      " 'SYMPTOM_TYPE_13' 'TEST_TYPE_5' 'SYMPTOM_TYPE_20' 'SYMPTOM_TYPE_25'\n",
      " 'SYMPTOM_TYPE_22' 'DRUG_TYPE_17' 'SYMPTOM_TYPE_27' 'SYMPTOM_TYPE_23'\n",
      " 'SYMPTOM_TYPE_28']\n"
     ]
    }
   ],
   "source": [
    "print(\"Unique values of Incident \\n\")\n",
    "print(test_df['Incident'].unique())"
   ]
  },
  {
   "cell_type": "markdown",
   "id": "15359a1f",
   "metadata": {},
   "source": [
    "# Exploring the Dataset"
   ]
  },
  {
   "cell_type": "code",
   "execution_count": 46,
   "id": "408bcf30",
   "metadata": {},
   "outputs": [
    {
     "data": {
      "text/plain": [
       "DRUG_TYPE_6          188401\n",
       "DRUG_TYPE_1          169089\n",
       "PRIMARY_DIAGNOSIS    127996\n",
       "DRUG_TYPE_0           90711\n",
       "DRUG_TYPE_2           90465\n",
       "DRUG_TYPE_7           90423\n",
       "DRUG_TYPE_8           55696\n",
       "DRUG_TYPE_3           40679\n",
       "TEST_TYPE_1           34274\n",
       "DRUG_TYPE_9           25294\n",
       "DRUG_TYPE_5           20045\n",
       "SYMPTOM_TYPE_0        17292\n",
       "DRUG_TYPE_11          16587\n",
       "SYMPTOM_TYPE_6        11536\n",
       "TEST_TYPE_0           10921\n",
       "SYMPTOM_TYPE_7         7943\n",
       "SYMPTOM_TYPE_5         5403\n",
       "DRUG_TYPE_14           4963\n",
       "DRUG_TYPE_10           4242\n",
       "DRUG_TYPE_13           4059\n",
       "SYMPTOM_TYPE_1         2955\n",
       "DRUG_TYPE_12           2823\n",
       "SYMPTOM_TYPE_2         2772\n",
       "TEST_TYPE_3            2709\n",
       "SYMPTOM_TYPE_8         2683\n",
       "TEST_TYPE_2            2524\n",
       "SYMPTOM_TYPE_14        2482\n",
       "DRUG_TYPE_4            1840\n",
       "SYMPTOM_TYPE_15        1818\n",
       "SYMPTOM_TYPE_10        1783\n",
       "SYMPTOM_TYPE_29        1697\n",
       "SYMPTOM_TYPE_9         1689\n",
       "SYMPTOM_TYPE_16        1576\n",
       "DRUG_TYPE_15           1373\n",
       "SYMPTOM_TYPE_4         1315\n",
       "SYMPTOM_TYPE_3          968\n",
       "SYMPTOM_TYPE_12         935\n",
       "SYMPTOM_TYPE_11         776\n",
       "SYMPTOM_TYPE_17         714\n",
       "SYMPTOM_TYPE_13         531\n",
       "DRUG_TYPE_16            424\n",
       "TEST_TYPE_4             377\n",
       "SYMPTOM_TYPE_18         164\n",
       "SYMPTOM_TYPE_22         114\n",
       "SYMPTOM_TYPE_21         110\n",
       "SYMPTOM_TYPE_19          70\n",
       "SYMPTOM_TYPE_24          46\n",
       "TEST_TYPE_5              40\n",
       "SYMPTOM_TYPE_20          27\n",
       "SYMPTOM_TYPE_23          21\n",
       "SYMPTOM_TYPE_26          19\n",
       "SYMPTOM_TYPE_28          10\n",
       "DRUG_TYPE_17              8\n",
       "SYMPTOM_TYPE_27           8\n",
       "SYMPTOM_TYPE_25           4\n",
       "Name: Incident, dtype: int64"
      ]
     },
     "execution_count": 46,
     "metadata": {},
     "output_type": "execute_result"
    }
   ],
   "source": [
    "test_df.Incident.value_counts()"
   ]
  },
  {
   "cell_type": "code",
   "execution_count": 47,
   "id": "ba55ae0c",
   "metadata": {},
   "outputs": [
    {
     "data": {
      "text/html": [
       "<div>\n",
       "<style scoped>\n",
       "    .dataframe tbody tr th:only-of-type {\n",
       "        vertical-align: middle;\n",
       "    }\n",
       "\n",
       "    .dataframe tbody tr th {\n",
       "        vertical-align: top;\n",
       "    }\n",
       "\n",
       "    .dataframe thead th {\n",
       "        text-align: right;\n",
       "    }\n",
       "</style>\n",
       "<table border=\"1\" class=\"dataframe\">\n",
       "  <thead>\n",
       "    <tr style=\"text-align: right;\">\n",
       "      <th></th>\n",
       "      <th>Patient-Uid</th>\n",
       "      <th>Date</th>\n",
       "      <th>Incident</th>\n",
       "    </tr>\n",
       "  </thead>\n",
       "  <tbody>\n",
       "  </tbody>\n",
       "</table>\n",
       "</div>"
      ],
      "text/plain": [
       "Empty DataFrame\n",
       "Columns: [Patient-Uid, Date, Incident]\n",
       "Index: []"
      ]
     },
     "execution_count": 47,
     "metadata": {},
     "output_type": "execute_result"
    }
   ],
   "source": [
    "# generating positive set\n",
    "positive_df = test_df[test_df['Incident']=='TARGET DRUG']\n",
    "positive_df.head()\n",
    "     "
   ]
  },
  {
   "cell_type": "code",
   "execution_count": 48,
   "id": "1089448c",
   "metadata": {},
   "outputs": [
    {
     "data": {
      "text/html": [
       "<div>\n",
       "<style scoped>\n",
       "    .dataframe tbody tr th:only-of-type {\n",
       "        vertical-align: middle;\n",
       "    }\n",
       "\n",
       "    .dataframe tbody tr th {\n",
       "        vertical-align: top;\n",
       "    }\n",
       "\n",
       "    .dataframe thead th {\n",
       "        text-align: right;\n",
       "    }\n",
       "</style>\n",
       "<table border=\"1\" class=\"dataframe\">\n",
       "  <thead>\n",
       "    <tr style=\"text-align: right;\">\n",
       "      <th></th>\n",
       "      <th>Patient-Uid</th>\n",
       "      <th>Date</th>\n",
       "      <th>Incident</th>\n",
       "    </tr>\n",
       "  </thead>\n",
       "  <tbody>\n",
       "    <tr>\n",
       "      <th>57</th>\n",
       "      <td>a0f9e8a9-1c7c-11ec-8d25-16262ee38c7f</td>\n",
       "      <td>2017-12-01</td>\n",
       "      <td>TEST_TYPE_0</td>\n",
       "    </tr>\n",
       "    <tr>\n",
       "      <th>208</th>\n",
       "      <td>a0f9e9f9-1c7c-11ec-b565-16262ee38c7f</td>\n",
       "      <td>2016-06-22</td>\n",
       "      <td>DRUG_TYPE_9</td>\n",
       "    </tr>\n",
       "    <tr>\n",
       "      <th>305</th>\n",
       "      <td>a0f9ea43-1c7c-11ec-aa10-16262ee38c7f</td>\n",
       "      <td>2019-07-21</td>\n",
       "      <td>DRUG_TYPE_6</td>\n",
       "    </tr>\n",
       "    <tr>\n",
       "      <th>420</th>\n",
       "      <td>a0f9ea7c-1c7c-11ec-af15-16262ee38c7f</td>\n",
       "      <td>2016-06-15</td>\n",
       "      <td>DRUG_TYPE_6</td>\n",
       "    </tr>\n",
       "    <tr>\n",
       "      <th>497</th>\n",
       "      <td>a0f9eab1-1c7c-11ec-a732-16262ee38c7f</td>\n",
       "      <td>2018-11-22</td>\n",
       "      <td>DRUG_TYPE_6</td>\n",
       "    </tr>\n",
       "    <tr>\n",
       "      <th>...</th>\n",
       "      <td>...</td>\n",
       "      <td>...</td>\n",
       "      <td>...</td>\n",
       "    </tr>\n",
       "    <tr>\n",
       "      <th>1372381</th>\n",
       "      <td>a102720c-1c7c-11ec-bd9a-16262ee38c7f</td>\n",
       "      <td>2020-01-07</td>\n",
       "      <td>DRUG_TYPE_6</td>\n",
       "    </tr>\n",
       "    <tr>\n",
       "      <th>1372432</th>\n",
       "      <td>a102723c-1c7c-11ec-9f80-16262ee38c7f</td>\n",
       "      <td>2019-07-06</td>\n",
       "      <td>DRUG_TYPE_3</td>\n",
       "    </tr>\n",
       "    <tr>\n",
       "      <th>1372543</th>\n",
       "      <td>a102726b-1c7c-11ec-bfbf-16262ee38c7f</td>\n",
       "      <td>2018-12-31</td>\n",
       "      <td>DRUG_TYPE_0</td>\n",
       "    </tr>\n",
       "    <tr>\n",
       "      <th>1372607</th>\n",
       "      <td>a102729b-1c7c-11ec-86ba-16262ee38c7f</td>\n",
       "      <td>2019-04-02</td>\n",
       "      <td>DRUG_TYPE_3</td>\n",
       "    </tr>\n",
       "    <tr>\n",
       "      <th>1372859</th>\n",
       "      <td>a10272c9-1c7c-11ec-b3ce-16262ee38c7f</td>\n",
       "      <td>2017-05-19</td>\n",
       "      <td>DRUG_TYPE_7</td>\n",
       "    </tr>\n",
       "  </tbody>\n",
       "</table>\n",
       "<p>11482 rows × 3 columns</p>\n",
       "</div>"
      ],
      "text/plain": [
       "                                  Patient-Uid       Date     Incident\n",
       "57       a0f9e8a9-1c7c-11ec-8d25-16262ee38c7f 2017-12-01  TEST_TYPE_0\n",
       "208      a0f9e9f9-1c7c-11ec-b565-16262ee38c7f 2016-06-22  DRUG_TYPE_9\n",
       "305      a0f9ea43-1c7c-11ec-aa10-16262ee38c7f 2019-07-21  DRUG_TYPE_6\n",
       "420      a0f9ea7c-1c7c-11ec-af15-16262ee38c7f 2016-06-15  DRUG_TYPE_6\n",
       "497      a0f9eab1-1c7c-11ec-a732-16262ee38c7f 2018-11-22  DRUG_TYPE_6\n",
       "...                                       ...        ...          ...\n",
       "1372381  a102720c-1c7c-11ec-bd9a-16262ee38c7f 2020-01-07  DRUG_TYPE_6\n",
       "1372432  a102723c-1c7c-11ec-9f80-16262ee38c7f 2019-07-06  DRUG_TYPE_3\n",
       "1372543  a102726b-1c7c-11ec-bfbf-16262ee38c7f 2018-12-31  DRUG_TYPE_0\n",
       "1372607  a102729b-1c7c-11ec-86ba-16262ee38c7f 2019-04-02  DRUG_TYPE_3\n",
       "1372859  a10272c9-1c7c-11ec-b3ce-16262ee38c7f 2017-05-19  DRUG_TYPE_7\n",
       "\n",
       "[11482 rows x 3 columns]"
      ]
     },
     "execution_count": 48,
     "metadata": {},
     "output_type": "execute_result"
    }
   ],
   "source": [
    "negative =  test_df[~test_df['Patient-Uid'].isin(positive_df['Patient-Uid'])]\n",
    "negative_df = negative.groupby('Patient-Uid').tail(1)\n",
    "negative_df"
   ]
  },
  {
   "cell_type": "code",
   "execution_count": 49,
   "id": "2af35dee",
   "metadata": {},
   "outputs": [
    {
     "data": {
      "text/html": [
       "<div>\n",
       "<style scoped>\n",
       "    .dataframe tbody tr th:only-of-type {\n",
       "        vertical-align: middle;\n",
       "    }\n",
       "\n",
       "    .dataframe tbody tr th {\n",
       "        vertical-align: top;\n",
       "    }\n",
       "\n",
       "    .dataframe thead th {\n",
       "        text-align: right;\n",
       "    }\n",
       "</style>\n",
       "<table border=\"1\" class=\"dataframe\">\n",
       "  <thead>\n",
       "    <tr style=\"text-align: right;\">\n",
       "      <th></th>\n",
       "      <th>Patient-Uid</th>\n",
       "      <th>Date</th>\n",
       "      <th>Incident</th>\n",
       "      <th>Prescription_Count</th>\n",
       "    </tr>\n",
       "  </thead>\n",
       "  <tbody>\n",
       "  </tbody>\n",
       "</table>\n",
       "</div>"
      ],
      "text/plain": [
       "Empty DataFrame\n",
       "Columns: [Patient-Uid, Date, Incident, Prescription_Count]\n",
       "Index: []"
      ]
     },
     "execution_count": 49,
     "metadata": {},
     "output_type": "execute_result"
    }
   ],
   "source": [
    "# to get the count of previous prescriptions within specific time intervals\n",
    "positive_df['Prescription_Count'] = positive_df.groupby('Patient-Uid')['Date'].cumcount()\n",
    "negative_df['Prescription_Count'] = negative_df.groupby('Patient-Uid')['Date'].cumcount()\n",
    "positive_df.tail(5)"
   ]
  },
  {
   "cell_type": "code",
   "execution_count": 50,
   "id": "b219bbb5",
   "metadata": {},
   "outputs": [],
   "source": [
    "# to get the difference between the most recent prescription and the prediction date.\n",
    "prediction_date = pd.to_datetime('today') + pd.DateOffset(days=30)\n",
    "positive_df['Time_diff'] = (prediction_date - positive_df.groupby('Patient-Uid')['Date'].transform('max')).dt.days\n",
    "negative_df['Time_diff'] = (prediction_date - negative_df.groupby('Patient-Uid')['Date'].transform('max')).dt.days\n",
    "     "
   ]
  },
  {
   "cell_type": "code",
   "execution_count": 51,
   "id": "78d09611",
   "metadata": {},
   "outputs": [
    {
     "data": {
      "text/html": [
       "<div>\n",
       "<style scoped>\n",
       "    .dataframe tbody tr th:only-of-type {\n",
       "        vertical-align: middle;\n",
       "    }\n",
       "\n",
       "    .dataframe tbody tr th {\n",
       "        vertical-align: top;\n",
       "    }\n",
       "\n",
       "    .dataframe thead th {\n",
       "        text-align: right;\n",
       "    }\n",
       "</style>\n",
       "<table border=\"1\" class=\"dataframe\">\n",
       "  <thead>\n",
       "    <tr style=\"text-align: right;\">\n",
       "      <th></th>\n",
       "      <th>Patient-Uid</th>\n",
       "      <th>Date</th>\n",
       "      <th>Incident</th>\n",
       "      <th>Prescription_Count</th>\n",
       "      <th>Time_diff</th>\n",
       "    </tr>\n",
       "  </thead>\n",
       "  <tbody>\n",
       "    <tr>\n",
       "      <th>57</th>\n",
       "      <td>a0f9e8a9-1c7c-11ec-8d25-16262ee38c7f</td>\n",
       "      <td>2017-12-01</td>\n",
       "      <td>TEST_TYPE_0</td>\n",
       "      <td>0</td>\n",
       "      <td>2184</td>\n",
       "    </tr>\n",
       "    <tr>\n",
       "      <th>208</th>\n",
       "      <td>a0f9e9f9-1c7c-11ec-b565-16262ee38c7f</td>\n",
       "      <td>2016-06-22</td>\n",
       "      <td>DRUG_TYPE_9</td>\n",
       "      <td>0</td>\n",
       "      <td>2711</td>\n",
       "    </tr>\n",
       "    <tr>\n",
       "      <th>305</th>\n",
       "      <td>a0f9ea43-1c7c-11ec-aa10-16262ee38c7f</td>\n",
       "      <td>2019-07-21</td>\n",
       "      <td>DRUG_TYPE_6</td>\n",
       "      <td>0</td>\n",
       "      <td>1587</td>\n",
       "    </tr>\n",
       "    <tr>\n",
       "      <th>420</th>\n",
       "      <td>a0f9ea7c-1c7c-11ec-af15-16262ee38c7f</td>\n",
       "      <td>2016-06-15</td>\n",
       "      <td>DRUG_TYPE_6</td>\n",
       "      <td>0</td>\n",
       "      <td>2718</td>\n",
       "    </tr>\n",
       "    <tr>\n",
       "      <th>497</th>\n",
       "      <td>a0f9eab1-1c7c-11ec-a732-16262ee38c7f</td>\n",
       "      <td>2018-11-22</td>\n",
       "      <td>DRUG_TYPE_6</td>\n",
       "      <td>0</td>\n",
       "      <td>1828</td>\n",
       "    </tr>\n",
       "  </tbody>\n",
       "</table>\n",
       "</div>"
      ],
      "text/plain": [
       "                              Patient-Uid       Date     Incident  \\\n",
       "57   a0f9e8a9-1c7c-11ec-8d25-16262ee38c7f 2017-12-01  TEST_TYPE_0   \n",
       "208  a0f9e9f9-1c7c-11ec-b565-16262ee38c7f 2016-06-22  DRUG_TYPE_9   \n",
       "305  a0f9ea43-1c7c-11ec-aa10-16262ee38c7f 2019-07-21  DRUG_TYPE_6   \n",
       "420  a0f9ea7c-1c7c-11ec-af15-16262ee38c7f 2016-06-15  DRUG_TYPE_6   \n",
       "497  a0f9eab1-1c7c-11ec-a732-16262ee38c7f 2018-11-22  DRUG_TYPE_6   \n",
       "\n",
       "     Prescription_Count  Time_diff  \n",
       "57                    0       2184  \n",
       "208                   0       2711  \n",
       "305                   0       1587  \n",
       "420                   0       2718  \n",
       "497                   0       1828  "
      ]
     },
     "execution_count": 51,
     "metadata": {},
     "output_type": "execute_result"
    }
   ],
   "source": [
    "negative_df.head()"
   ]
  },
  {
   "cell_type": "code",
   "execution_count": 52,
   "id": "96a7d8fc",
   "metadata": {},
   "outputs": [
    {
     "data": {
      "text/html": [
       "<div>\n",
       "<style scoped>\n",
       "    .dataframe tbody tr th:only-of-type {\n",
       "        vertical-align: middle;\n",
       "    }\n",
       "\n",
       "    .dataframe tbody tr th {\n",
       "        vertical-align: top;\n",
       "    }\n",
       "\n",
       "    .dataframe thead th {\n",
       "        text-align: right;\n",
       "    }\n",
       "</style>\n",
       "<table border=\"1\" class=\"dataframe\">\n",
       "  <thead>\n",
       "    <tr style=\"text-align: right;\">\n",
       "      <th></th>\n",
       "      <th>Patient-Uid</th>\n",
       "      <th>Date</th>\n",
       "      <th>Incident</th>\n",
       "      <th>Prescription_Count</th>\n",
       "      <th>Time_diff</th>\n",
       "    </tr>\n",
       "  </thead>\n",
       "  <tbody>\n",
       "    <tr>\n",
       "      <th>57</th>\n",
       "      <td>a0f9e8a9-1c7c-11ec-8d25-16262ee38c7f</td>\n",
       "      <td>2017-12-01</td>\n",
       "      <td>TEST_TYPE_0</td>\n",
       "      <td>0</td>\n",
       "      <td>2184</td>\n",
       "    </tr>\n",
       "    <tr>\n",
       "      <th>208</th>\n",
       "      <td>a0f9e9f9-1c7c-11ec-b565-16262ee38c7f</td>\n",
       "      <td>2016-06-22</td>\n",
       "      <td>DRUG_TYPE_9</td>\n",
       "      <td>0</td>\n",
       "      <td>2711</td>\n",
       "    </tr>\n",
       "    <tr>\n",
       "      <th>305</th>\n",
       "      <td>a0f9ea43-1c7c-11ec-aa10-16262ee38c7f</td>\n",
       "      <td>2019-07-21</td>\n",
       "      <td>DRUG_TYPE_6</td>\n",
       "      <td>0</td>\n",
       "      <td>1587</td>\n",
       "    </tr>\n",
       "    <tr>\n",
       "      <th>420</th>\n",
       "      <td>a0f9ea7c-1c7c-11ec-af15-16262ee38c7f</td>\n",
       "      <td>2016-06-15</td>\n",
       "      <td>DRUG_TYPE_6</td>\n",
       "      <td>0</td>\n",
       "      <td>2718</td>\n",
       "    </tr>\n",
       "    <tr>\n",
       "      <th>497</th>\n",
       "      <td>a0f9eab1-1c7c-11ec-a732-16262ee38c7f</td>\n",
       "      <td>2018-11-22</td>\n",
       "      <td>DRUG_TYPE_6</td>\n",
       "      <td>0</td>\n",
       "      <td>1828</td>\n",
       "    </tr>\n",
       "  </tbody>\n",
       "</table>\n",
       "</div>"
      ],
      "text/plain": [
       "                              Patient-Uid       Date     Incident  \\\n",
       "57   a0f9e8a9-1c7c-11ec-8d25-16262ee38c7f 2017-12-01  TEST_TYPE_0   \n",
       "208  a0f9e9f9-1c7c-11ec-b565-16262ee38c7f 2016-06-22  DRUG_TYPE_9   \n",
       "305  a0f9ea43-1c7c-11ec-aa10-16262ee38c7f 2019-07-21  DRUG_TYPE_6   \n",
       "420  a0f9ea7c-1c7c-11ec-af15-16262ee38c7f 2016-06-15  DRUG_TYPE_6   \n",
       "497  a0f9eab1-1c7c-11ec-a732-16262ee38c7f 2018-11-22  DRUG_TYPE_6   \n",
       "\n",
       "     Prescription_Count  Time_diff  \n",
       "57                    0       2184  \n",
       "208                   0       2711  \n",
       "305                   0       1587  \n",
       "420                   0       2718  \n",
       "497                   0       1828  "
      ]
     },
     "execution_count": 52,
     "metadata": {},
     "output_type": "execute_result"
    }
   ],
   "source": [
    "# creating new dataset by concating positive and negative sets\n",
    "new_df = pd.concat([positive_df, negative_df])\n",
    "new_df.head()"
   ]
  },
  {
   "cell_type": "code",
   "execution_count": 60,
   "id": "ff803a26",
   "metadata": {},
   "outputs": [],
   "source": [
    "test_df['Prescription_Count'] = test_df.groupby('Patient-Uid')['Date'].cumcount()\n",
    "test_df['Time_diff'] = (prediction_date - test_df.groupby('Patient-Uid')['Date'].transform(max)).dt.days\n",
    "     "
   ]
  },
  {
   "cell_type": "code",
   "execution_count": 58,
   "id": "81bc0538",
   "metadata": {},
   "outputs": [
    {
     "data": {
      "text/plain": [
       "0          1648\n",
       "1          1648\n",
       "2          1648\n",
       "3          1648\n",
       "4          1648\n",
       "           ... \n",
       "1372854    1724\n",
       "1372856    1724\n",
       "1372857    1724\n",
       "1372858    1724\n",
       "1372859    1724\n",
       "Name: Time_Difference, Length: 1053424, dtype: int64"
      ]
     },
     "execution_count": 58,
     "metadata": {},
     "output_type": "execute_result"
    }
   ],
   "source": [
    "test_df['Time_Difference']"
   ]
  },
  {
   "cell_type": "code",
   "execution_count": 61,
   "id": "c5e95db1",
   "metadata": {},
   "outputs": [],
   "source": [
    "\n",
    "\n",
    "test_data_pred = xgb_classifier.predict(test_df[['Prescription_Count', 'Time_diff']])"
   ]
  },
  {
   "cell_type": "code",
   "execution_count": 62,
   "id": "f61d86cb",
   "metadata": {},
   "outputs": [
    {
     "data": {
      "text/plain": [
       "array([0, 1, 1, ..., 1, 1, 1])"
      ]
     },
     "execution_count": 62,
     "metadata": {},
     "output_type": "execute_result"
    }
   ],
   "source": [
    "test_data_pred"
   ]
  },
  {
   "cell_type": "code",
   "execution_count": 63,
   "id": "5b6b9cf7",
   "metadata": {},
   "outputs": [
    {
     "data": {
      "text/html": [
       "<div>\n",
       "<style scoped>\n",
       "    .dataframe tbody tr th:only-of-type {\n",
       "        vertical-align: middle;\n",
       "    }\n",
       "\n",
       "    .dataframe tbody tr th {\n",
       "        vertical-align: top;\n",
       "    }\n",
       "\n",
       "    .dataframe thead th {\n",
       "        text-align: right;\n",
       "    }\n",
       "</style>\n",
       "<table border=\"1\" class=\"dataframe\">\n",
       "  <thead>\n",
       "    <tr style=\"text-align: right;\">\n",
       "      <th></th>\n",
       "      <th>Patient-Uid</th>\n",
       "      <th>Prediction</th>\n",
       "    </tr>\n",
       "  </thead>\n",
       "  <tbody>\n",
       "    <tr>\n",
       "      <th>0</th>\n",
       "      <td>a0f9e8a9-1c7c-11ec-8d25-16262ee38c7f</td>\n",
       "      <td>0</td>\n",
       "    </tr>\n",
       "    <tr>\n",
       "      <th>1</th>\n",
       "      <td>a0f9e8a9-1c7c-11ec-8d25-16262ee38c7f</td>\n",
       "      <td>1</td>\n",
       "    </tr>\n",
       "    <tr>\n",
       "      <th>2</th>\n",
       "      <td>a0f9e8a9-1c7c-11ec-8d25-16262ee38c7f</td>\n",
       "      <td>1</td>\n",
       "    </tr>\n",
       "    <tr>\n",
       "      <th>3</th>\n",
       "      <td>a0f9e8a9-1c7c-11ec-8d25-16262ee38c7f</td>\n",
       "      <td>1</td>\n",
       "    </tr>\n",
       "    <tr>\n",
       "      <th>4</th>\n",
       "      <td>a0f9e8a9-1c7c-11ec-8d25-16262ee38c7f</td>\n",
       "      <td>1</td>\n",
       "    </tr>\n",
       "  </tbody>\n",
       "</table>\n",
       "</div>"
      ],
      "text/plain": [
       "                            Patient-Uid  Prediction\n",
       "0  a0f9e8a9-1c7c-11ec-8d25-16262ee38c7f           0\n",
       "1  a0f9e8a9-1c7c-11ec-8d25-16262ee38c7f           1\n",
       "2  a0f9e8a9-1c7c-11ec-8d25-16262ee38c7f           1\n",
       "3  a0f9e8a9-1c7c-11ec-8d25-16262ee38c7f           1\n",
       "4  a0f9e8a9-1c7c-11ec-8d25-16262ee38c7f           1"
      ]
     },
     "execution_count": 63,
     "metadata": {},
     "output_type": "execute_result"
    }
   ],
   "source": [
    "\n",
    "# to create final submission file\n",
    "Final_submission = pd.DataFrame({'Patient-Uid': test_df['Patient-Uid'], 'Prediction': test_data_pred})\n",
    "Final_submission.head()"
   ]
  },
  {
   "cell_type": "code",
   "execution_count": 64,
   "id": "414f4df3",
   "metadata": {},
   "outputs": [],
   "source": [
    "\n",
    "Final_submission.to_csv('Final_submission.csv', index = False)"
   ]
  },
  {
   "cell_type": "code",
   "execution_count": null,
   "id": "2a7946af",
   "metadata": {},
   "outputs": [],
   "source": []
  }
 ],
 "metadata": {
  "kernelspec": {
   "display_name": "Python 3 (ipykernel)",
   "language": "python",
   "name": "python3"
  },
  "language_info": {
   "codemirror_mode": {
    "name": "ipython",
    "version": 3
   },
   "file_extension": ".py",
   "mimetype": "text/x-python",
   "name": "python",
   "nbconvert_exporter": "python",
   "pygments_lexer": "ipython3",
   "version": "3.9.13"
  }
 },
 "nbformat": 4,
 "nbformat_minor": 5
}
