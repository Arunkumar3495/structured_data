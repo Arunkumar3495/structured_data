{
 "cells": [
  {
   "cell_type": "markdown",
   "id": "9a7b3345",
   "metadata": {},
   "source": [
    "# MCQ Question Generator using Spacy Library\n",
    "This code generates multiple-choice questions (MCQs) based on a given context paragraph using the Spacy library. The MCQs are designed to have multiple correct answer choices for added variety. The generated MCQs are then displayed to the user."
   ]
  },
  {
   "cell_type": "markdown",
   "id": "f237fb9d",
   "metadata": {},
   "source": [
    "# Import necessary libraries"
   ]
  },
  {
   "cell_type": "markdown",
   "id": "8d541a43",
   "metadata": {},
   "source": [
    "Imports the required libraries, spacy for natural language processing and random for generating random choices."
   ]
  },
  {
   "cell_type": "code",
   "execution_count": 1,
   "id": "3dae019b",
   "metadata": {},
   "outputs": [],
   "source": [
    "import spacy\n",
    "import random"
   ]
  },
  {
   "cell_type": "code",
   "execution_count": 2,
   "id": "18c9f9d9",
   "metadata": {},
   "outputs": [
    {
     "name": "stdout",
     "output_type": "stream",
     "text": [
      "\u001b[38;5;2m✔ Download and installation successful\u001b[0m\n",
      "You can now load the package via spacy.load('en_core_web_sm')\n"
     ]
    }
   ],
   "source": [
    "spacy.cli.download(\"en_core_web_sm\")\n",
    "nlp = spacy.load(\"en_core_web_sm\")"
   ]
  },
  {
   "cell_type": "markdown",
   "id": "5c308e70",
   "metadata": {},
   "source": [
    "# Define function\n",
    "Defines a function get_mca_questions that takes a context paragraph and the number of questions to generate."
   ]
  },
  {
   "cell_type": "code",
   "execution_count": 3,
   "id": "590720a1",
   "metadata": {},
   "outputs": [],
   "source": [
    "def get_mca_questions(context: str, num_questions: int):\n",
    "  doc = nlp(context)"
   ]
  },
  {
   "cell_type": "markdown",
   "id": "36846231",
   "metadata": {},
   "source": [
    "# Define MCQ generation function\n",
    "Defines a function generate_mcq_with_multiple_correct to create MCQs with multiple correct answers. "
   ]
  },
  {
   "cell_type": "code",
   "execution_count": 4,
   "id": "b3170b68",
   "metadata": {},
   "outputs": [],
   "source": [
    "def generate_mcq_with_multiple_correct(question, correct_answers, other_options, num_options=4):\n",
    "        options = correct_answers + other_options\n",
    "        random.shuffle(options)\n",
    "\n",
    "        mcq = {\n",
    "            \"question\": question,\n",
    "            \"options\": options,\n",
    "            \"correct_answers\": correct_answers\n",
    "        }\n",
    "     "
   ]
  },
  {
   "cell_type": "markdown",
   "id": "c2731737",
   "metadata": {},
   "source": [
    "# Generate a variety question\n",
    "Defines a function generate_variety_question that randomly selects a sentence and a word from the context to create a fill-in-the-blank question"
   ]
  },
  {
   "cell_type": "code",
   "execution_count": 5,
   "id": "19877056",
   "metadata": {},
   "outputs": [],
   "source": [
    "def generate_variety_question():\n",
    "        # randomly select the sentence from content\n",
    "        sentence = random.choice(list(doc.sents))\n",
    "\n",
    "        # randomly choose non- pronounciation words from sentence as blank word\n",
    "        blank_word = random.choice([token for token in sentence if not token.is_punct])\n",
    "\n",
    "        # create a question text with blank word ----\n",
    "        question_text = sentence.text.replace(blank_word.text, \"______\")\n",
    "\n",
    "        #set correct answers to the blank word\n",
    "        correct_answers = [blank_word.text]\n",
    "\n",
    "        #generating other possible answers\n",
    "        other_options = [token.text for token in doc if token.is_alpha and token.text != correct_answers[0]]\n",
    "\n",
    "        #randonly determine how many correct options\n",
    "        num_correct_options = random.randint(1, 2)\n",
    "\n",
    "        #randomly select correct options to the list of options\n",
    "        correct_answers.extend(random.sample(other_options, num_correct_options))\n",
    "\n",
    "        # no of incorrect answers\n",
    "        num_other_options = min(4 - num_correct_options, len(other_options))\n",
    "        other_options = random.sample(other_options, num_other_options)\n",
    "\n",
    "        #generationg final MCQ\n",
    "        mcq = generate_mcq_with_multiple_correct(question_text, correct_answers, other_options)\n",
    "        return mcq\n",
    "    \n",
    "     "
   ]
  },
  {
   "cell_type": "markdown",
   "id": "576e9241",
   "metadata": {},
   "source": [
    "# Generate questions & Process and format questions\n",
    "Generates a list of questions using the generate_variety_question function based on the context and specified number of questions. Formats the generated questions, options, and correct answers into strings."
   ]
  },
  {
   "cell_type": "code",
   "execution_count": null,
   "id": "5d9a8fcf",
   "metadata": {},
   "outputs": [],
   "source": [
    "     questions = [generate_variety_question() for _ in range(num_questions)]\n",
    "#created empty list to store multiple choice questions\n",
    "    mca_questions = []\n",
    "\n",
    " # enumerate function is used to iterate over the questions\n",
    "    for i, question in enumerate(questions, start=1):\n",
    "\n",
    "        #created a string for question number and question text.\n",
    "        question_str = f\"Q{i}: {question['question']}\\n\"\n",
    "\n",
    "        #created empty string to store option for current question\n",
    "        options_str = \"\"\n",
    "\n",
    "        #iterate through options\n",
    "        for j, option in enumerate(question['options']):\n",
    "            options_str += f\"{j+1}. {option}\\n\"\n",
    "\n",
    "        #format the correct answers into human redable format\n",
    "        correct_options_formatted = \" & \".join([f\"({chr(97+question['options'].index(ans))})\" for ans in question['correct_answers']])\n",
    "\n",
    "        #combine the questions and options and format the correct answes\n",
    "        correct_options_str = f\"Correct Options: {correct_options_formatted}\"\n",
    "\n",
    "        #add the questions into formated questions\n",
    "        mca_question = f\"{question_str}{options_str}{correct_options_str}\\n\"\n",
    "        mca_questions.append(mca_question)\n",
    "\n",
    "    #return the MCQ questions\n",
    "    return mca_questions"
   ]
  },
  {
   "cell_type": "markdown",
   "id": "0419dc3c",
   "metadata": {},
   "source": [
    "# Print Questions\n",
    "Takes user input for the context and number of questions, generates MCQs, and prints each question along with options and correct answers."
   ]
  },
  {
   "cell_type": "code",
   "execution_count": null,
   "id": "bcab096b",
   "metadata": {},
   "outputs": [],
   "source": [
    "context = input(\"Enter the paragraph: \")\n",
    "num_questions = int(input(\"Enter the number of questions: \"))\n",
    "mca_questions = get_mca_questions(context, num_questions)\n",
    "for question in mca_questions:\n",
    "    print(question)\n"
   ]
  },
  {
   "cell_type": "markdown",
   "id": "18af4c70",
   "metadata": {},
   "source": [
    "# final code"
   ]
  },
  {
   "cell_type": "code",
   "execution_count": 1,
   "id": "0d8750dd",
   "metadata": {},
   "outputs": [
    {
     "name": "stdout",
     "output_type": "stream",
     "text": [
      "Enter the paragraph:  So another crushing win for South Africa at the Wankhede. The ball just seems to do a bit more under lights over here, and their bowlers exploited it beautifully once again as they did against England. Marco Jansen was superb again in his opening spell, troubling batters with pace, movement and extra bounce. Lizaad Williams, coming in for Ngidi, also found movement. They had Bangladesh at 31/3 inside 8 overs, and then Rabada and Coetzee took over the mantle of wicket-taking as they generally do. Even in the 15th over, the ball was nipping around, as evidenced by a beauty from Rabada to trap Litton Das LBW. Of course, the match was over by then. Bangladesh did have something to cheer about towards the end as Mahmudullah played beautifully to smash a hundred while the tail wagged in support. Still, they fell short by 149 runs - a reflection of the challenge they were facing after being hammered by de Kock and Klaasen earlier. South Africa smashed 143 in the last 10 overs against England, and 144 in the last 10 overs today. Bangladesh weren't coming back from that.\n",
      "Enter the number of questions: 5\n",
      "Q1: Bangladesh did have something to cheer about towards the end ______ Mahmudullah played beautifully to sm______h a hundred while the tail wagged in support.\n",
      "1. bounce\n",
      "2. to\n",
      "3. their\n",
      "4. while\n",
      "5. as\n",
      "Correct Options: (e) & (c) & (d)\n",
      "\n",
      "Q2: Bangladesh were______ coming back from that.\n",
      "1. in\n",
      "2. n't\n",
      "3. Das\n",
      "4. mantle\n",
      "5. were\n",
      "Correct Options: (b) & (a) & (e)\n",
      "\n",
      "Q3: Even in the 15th over, the b______ll w______s nipping ______round, ______s evidenced by ______ be______uty from R______b______d______ to tr______p Litton D______s LBW.\n",
      "1. to\n",
      "2. it\n",
      "3. South\n",
      "4. a\n",
      "5. Bangladesh\n",
      "Correct Options: (d) & (c)\n",
      "\n",
      "Q4: Marco ______ was superb again in his opening spell, troubling batters with pace, movement and extra bounce.\n",
      "1. to\n",
      "2. South\n",
      "3. by\n",
      "4. then\n",
      "5. Jansen\n",
      "Correct Options: (e) & (b)\n",
      "\n",
      "Q5: South Africa ______ 143 in the last 10 overs against England, and 144 in the last 10 overs today.\n",
      "1. inside\n",
      "2. match\n",
      "3. they\n",
      "4. smashed\n",
      "5. in\n",
      "Correct Options: (d) & (a)\n",
      "\n"
     ]
    }
   ],
   "source": [
    "import spacy\n",
    "import random\n",
    "\n",
    "# Load English language model\n",
    "nlp = spacy.load(\"en_core_web_sm\")\n",
    "\n",
    "def get_mca_questions(context: str, num_questions: int):\n",
    "    doc = nlp(context)\n",
    "\n",
    "    def generate_mcq_with_multiple_correct(question, correct_answers, other_options, num_options=4):\n",
    "        options = correct_answers + other_options\n",
    "        random.shuffle(options)\n",
    "\n",
    "        mcq = {\n",
    "            \"question\": question,\n",
    "            \"options\": options,\n",
    "            \"correct_answers\": correct_answers\n",
    "        }\n",
    "\n",
    "        return mcq\n",
    "\n",
    "    def generate_variety_question():\n",
    "        sentence = random.choice(list(doc.sents))\n",
    "        blank_word = random.choice([token for token in sentence if not token.is_punct])\n",
    "\n",
    "        question_text = sentence.text.replace(blank_word.text, \"______\")\n",
    "        correct_answers = [blank_word.text]\n",
    "\n",
    "        other_options = [token.text for token in doc if token.is_alpha and token.text != correct_answers[0]]\n",
    "        num_correct_options = random.randint(1, 2)  # Generate 1 or 2 correct options\n",
    "        correct_answers.extend(random.sample(other_options, num_correct_options))\n",
    "\n",
    "        num_other_options = min(4 - num_correct_options, len(other_options))\n",
    "        other_options = random.sample(other_options, num_other_options)\n",
    "\n",
    "        mcq = generate_mcq_with_multiple_correct(question_text, correct_answers, other_options)\n",
    "        return mcq\n",
    "\n",
    "    questions = [generate_variety_question() for _ in range(num_questions)]\n",
    "\n",
    "    mca_questions = []\n",
    "    for i, question in enumerate(questions, start=1):\n",
    "        question_str = f\"Q{i}: {question['question']}\\n\"\n",
    "        options_str = \"\"\n",
    "        for j, option in enumerate(question['options']):\n",
    "            options_str += f\"{j+1}. {option}\\n\"\n",
    "\n",
    "        correct_options_formatted = \" & \".join([f\"({chr(97+question['options'].index(ans))})\" for ans in question['correct_answers']])\n",
    "        correct_options_str = f\"Correct Options: {correct_options_formatted}\"\n",
    "\n",
    "        mca_question = f\"{question_str}{options_str}{correct_options_str}\\n\"\n",
    "        mca_questions.append(mca_question)\n",
    "\n",
    "    return mca_questions\n",
    "\n",
    "context = input(\"Enter the paragraph: \")\n",
    "num_questions = int(input(\"Enter the number of questions: \"))\n",
    "mca_questions = get_mca_questions(context, num_questions)\n",
    "for question in mca_questions:\n",
    "    print(question)\n",
    "\n"
   ]
  },
  {
   "cell_type": "code",
   "execution_count": null,
   "id": "db6173bd",
   "metadata": {},
   "outputs": [],
   "source": []
  }
 ],
 "metadata": {
  "kernelspec": {
   "display_name": "Python 3 (ipykernel)",
   "language": "python",
   "name": "python3"
  },
  "language_info": {
   "codemirror_mode": {
    "name": "ipython",
    "version": 3
   },
   "file_extension": ".py",
   "mimetype": "text/x-python",
   "name": "python",
   "nbconvert_exporter": "python",
   "pygments_lexer": "ipython3",
   "version": "3.9.13"
  }
 },
 "nbformat": 4,
 "nbformat_minor": 5
}
